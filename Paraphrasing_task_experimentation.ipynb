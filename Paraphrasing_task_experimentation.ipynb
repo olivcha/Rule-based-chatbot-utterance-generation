{
  "cells": [
    {
      "cell_type": "markdown",
      "metadata": {
        "id": "FWOhvtnodopf"
      },
      "source": [
        "#ChatGPT on T5 base"
      ]
    },
    {
      "cell_type": "code",
      "execution_count": null,
      "metadata": {
        "colab": {
          "base_uri": "https://localhost:8080/"
        },
        "id": "LgbDXjksIm2r",
        "outputId": "f21d400b-cfae-4b96-c340-93052bd29c4b"
      },
      "outputs": [
        {
          "output_type": "stream",
          "name": "stdout",
          "text": [
            "Requirement already satisfied: transformers in /usr/local/lib/python3.10/dist-packages (4.33.0)\n",
            "Requirement already satisfied: filelock in /usr/local/lib/python3.10/dist-packages (from transformers) (3.12.2)\n",
            "Requirement already satisfied: huggingface-hub<1.0,>=0.15.1 in /usr/local/lib/python3.10/dist-packages (from transformers) (0.16.4)\n",
            "Requirement already satisfied: numpy>=1.17 in /usr/local/lib/python3.10/dist-packages (from transformers) (1.23.5)\n",
            "Requirement already satisfied: packaging>=20.0 in /usr/local/lib/python3.10/dist-packages (from transformers) (23.1)\n",
            "Requirement already satisfied: pyyaml>=5.1 in /usr/local/lib/python3.10/dist-packages (from transformers) (6.0.1)\n",
            "Requirement already satisfied: regex!=2019.12.17 in /usr/local/lib/python3.10/dist-packages (from transformers) (2023.6.3)\n",
            "Requirement already satisfied: requests in /usr/local/lib/python3.10/dist-packages (from transformers) (2.31.0)\n",
            "Requirement already satisfied: tokenizers!=0.11.3,<0.14,>=0.11.1 in /usr/local/lib/python3.10/dist-packages (from transformers) (0.13.3)\n",
            "Requirement already satisfied: safetensors>=0.3.1 in /usr/local/lib/python3.10/dist-packages (from transformers) (0.3.3)\n",
            "Requirement already satisfied: tqdm>=4.27 in /usr/local/lib/python3.10/dist-packages (from transformers) (4.66.1)\n",
            "Requirement already satisfied: fsspec in /usr/local/lib/python3.10/dist-packages (from huggingface-hub<1.0,>=0.15.1->transformers) (2023.6.0)\n",
            "Requirement already satisfied: typing-extensions>=3.7.4.3 in /usr/local/lib/python3.10/dist-packages (from huggingface-hub<1.0,>=0.15.1->transformers) (4.7.1)\n",
            "Requirement already satisfied: charset-normalizer<4,>=2 in /usr/local/lib/python3.10/dist-packages (from requests->transformers) (3.2.0)\n",
            "Requirement already satisfied: idna<4,>=2.5 in /usr/local/lib/python3.10/dist-packages (from requests->transformers) (3.4)\n",
            "Requirement already satisfied: urllib3<3,>=1.21.1 in /usr/local/lib/python3.10/dist-packages (from requests->transformers) (2.0.4)\n",
            "Requirement already satisfied: certifi>=2017.4.17 in /usr/local/lib/python3.10/dist-packages (from requests->transformers) (2023.7.22)\n",
            "Requirement already satisfied: sentencepiece in /usr/local/lib/python3.10/dist-packages (0.1.99)\n"
          ]
        }
      ],
      "source": [
        "!pip install transformers\n",
        "!pip install sentencepiece\n",
        "\n",
        "from transformers import AutoTokenizer, AutoModelForSeq2SeqLM"
      ]
    },
    {
      "cell_type": "code",
      "execution_count": null,
      "metadata": {
        "id": "9Sqxy1ndIQfN"
      },
      "outputs": [],
      "source": [
        "\n",
        "device = \"cuda\"\n",
        "\n",
        "tokenizer = AutoTokenizer.from_pretrained(\"humarin/chatgpt_paraphraser_on_T5_base\")\n",
        "model = AutoModelForSeq2SeqLM.from_pretrained(\"humarin/chatgpt_paraphraser_on_T5_base\").to(device)\n",
        "\n",
        "def paraphraseT5(\n",
        "    question,\n",
        "    num_beams=5,\n",
        "    num_beam_groups=5,\n",
        "    num_return_sequences=5,\n",
        "    repetition_penalty=10.0,\n",
        "    diversity_penalty=3.0,\n",
        "    no_repeat_ngram_size=2,\n",
        "    temperature=0.7,\n",
        "    max_length=250\n",
        "):\n",
        "    input_ids = tokenizer(\n",
        "        f'paraphrase: {question}',\n",
        "        return_tensors=\"pt\", padding=\"longest\",\n",
        "        max_length=max_length,\n",
        "        truncation=True,\n",
        "    ).input_ids\n",
        "    input_ids = input_ids.to(device)\n",
        "\n",
        "    outputs = model.generate(\n",
        "        input_ids, temperature=temperature, repetition_penalty=repetition_penalty,\n",
        "        num_return_sequences=num_return_sequences, no_repeat_ngram_size=no_repeat_ngram_size,\n",
        "        num_beams=num_beams, num_beam_groups=num_beam_groups,\n",
        "        max_length=max_length, diversity_penalty=diversity_penalty\n",
        "    )\n",
        "\n",
        "    res = tokenizer.batch_decode(outputs, skip_special_tokens=True)\n",
        "\n",
        "    return res\n"
      ]
    },
    {
      "cell_type": "code",
      "execution_count": null,
      "metadata": {
        "id": "x1NzijqTIwuz"
      },
      "outputs": [],
      "source": [
        "text = \"I'm sorry, I don't understand. Could you please rephrase?\""
      ]
    },
    {
      "cell_type": "code",
      "execution_count": null,
      "metadata": {
        "colab": {
          "base_uri": "https://localhost:8080/"
        },
        "id": "f4e29olNcRIb",
        "outputId": "92e39bf2-91fc-408e-d26a-823374e28de7"
      },
      "outputs": [
        {
          "output_type": "stream",
          "name": "stderr",
          "text": [
            "/usr/local/lib/python3.10/dist-packages/transformers/generation/configuration_utils.py:362: UserWarning: `do_sample` is set to `False`. However, `temperature` is set to `0.7` -- this flag is only used in sample-based generation modes. You should set `do_sample=True` or unset `temperature`.\n",
            "  warnings.warn(\n"
          ]
        },
        {
          "output_type": "execute_result",
          "data": {
            "text/plain": [
              "[\"I'm not sure what you're talking about. Can you clarify?\",\n",
              " 'Can you provide a clarification for my question?',\n",
              " 'Could you clarify the meaning of \"I don\\'t understand\"?',\n",
              " 'Please rephrase me to convey an alternative expression.',\n",
              " \"Would it be possible for you to rephrase? I'm sorry, couldn’t find the right answer.\"]"
            ]
          },
          "metadata": {},
          "execution_count": 4
        }
      ],
      "source": [
        "paraphraseT5(text)"
      ]
    },
    {
      "cell_type": "markdown",
      "metadata": {
        "id": "KveZ2wDFdl4p"
      },
      "source": [
        "*italicised text*#Pegasus\n",
        "doesnt work anymore"
      ]
    },
    {
      "cell_type": "code",
      "execution_count": null,
      "metadata": {
        "id": "-1jE_3dqepRl"
      },
      "outputs": [],
      "source": [
        "import torch\n",
        "from transformers import PegasusForConditionalGeneration, PegasusTokenizer\n",
        "model_name = 'tuner007/pegasus_paraphrase'\n",
        "torch_device = 'cuda' if torch.cuda.is_available() else 'cpu'\n",
        "tokenizer = PegasusTokenizer.from_pretrained(model_name)\n",
        "model = PegasusForConditionalGeneration.from_pretrained(model_name).to(torch_device)\n",
        "\n",
        "def paraphrase_pegasus(input_text,num_return_sequences=50,num_beams=10):\n",
        "  batch = tokenizer([input_text],truncation=False,padding='longest',max_length=200, return_tensors=\"pt\").to(torch_device)\n",
        "  translated = model.generate(**batch,max_length=200,num_beams=num_beams, num_return_sequences=num_return_sequences, temperature=1.5)\n",
        "  tgt_text = tokenizer.batch_decode(translated, skip_special_tokens=True)\n",
        "  return tgt_text"
      ]
    },
    {
      "cell_type": "code",
      "execution_count": null,
      "metadata": {
        "id": "S1brjhN6eujE"
      },
      "outputs": [],
      "source": [
        "num_beams = 10\n",
        "num_return_sequences = 10\n",
        "context = \"Curiosity can help you fuel your natural enthusiasm to explore and discover, stay open, and follow your passion. Staying curious is important for becoming and staying creative. Good news - it can be practiced!\"\n",
        "# text = ''\n",
        "paraphrase_pegasus(text,num_return_sequences,num_beams)\n"
      ]
    },
    {
      "cell_type": "code",
      "execution_count": null,
      "metadata": {
        "colab": {
          "base_uri": "https://localhost:8080/",
          "height": 178
        },
        "id": "vzvNGFU-fp34",
        "outputId": "cc70af92-e75f-49a4-decb-ae9be1073e32"
      },
      "outputs": [
        {
          "output_type": "error",
          "ename": "NameError",
          "evalue": "ignored",
          "traceback": [
            "\u001b[0;31m---------------------------------------------------------------------------\u001b[0m",
            "\u001b[0;31mNameError\u001b[0m                                 Traceback (most recent call last)",
            "\u001b[0;32m<ipython-input-7-3afdc32135f0>\u001b[0m in \u001b[0;36m<cell line: 1>\u001b[0;34m()\u001b[0m\n\u001b[0;32m----> 1\u001b[0;31m \u001b[0mget_response\u001b[0m\u001b[0;34m(\u001b[0m\u001b[0mtext\u001b[0m\u001b[0;34m,\u001b[0m \u001b[0mnum_return_sequences\u001b[0m\u001b[0;34m,\u001b[0m \u001b[0mnum_beams\u001b[0m\u001b[0;34m)\u001b[0m\u001b[0;34m\u001b[0m\u001b[0;34m\u001b[0m\u001b[0m\n\u001b[0m",
            "\u001b[0;31mNameError\u001b[0m: name 'get_response' is not defined"
          ]
        }
      ],
      "source": [
        "get_response(text, num_return_sequences, num_beams)\n"
      ]
    },
    {
      "cell_type": "markdown",
      "metadata": {
        "id": "Tfh9G-Lzgm3h"
      },
      "source": [
        "BART Paraphrase Model"
      ]
    },
    {
      "cell_type": "code",
      "source": [
        "import torch\n",
        "from transformers import BartForConditionalGeneration, BartTokenizer\n",
        "\n",
        "input_sentence = [\"They were there to enjoy us and they were there to pray for us.\"]\n",
        "\n",
        "def paraphrase_bart(input_text):\n",
        "  model = BartForConditionalGeneration.from_pretrained('eugenesiow/bart-paraphrase')\n",
        "  device = torch.device(\"cuda\" if torch.cuda.is_available() else \"cpu\")\n",
        "  model = model.to(device)\n",
        "  tokenizer = BartTokenizer.from_pretrained('eugenesiow/bart-paraphrase')\n",
        "  paraphrases = []\n",
        "  for row in input_text:\n",
        "    if row != \"sentence\":\n",
        "      sentences = []\n",
        "      for x in range(1,6):\n",
        "        batch = tokenizer(row, return_tensors='pt')\n",
        "        batch = batch.to(device)\n",
        "        generated_ids = model.generate(batch['input_ids'])\n",
        "        generated_sentence = tokenizer.batch_decode(generated_ids, skip_special_tokens=True)\n",
        "        sentences.append(generated_sentence)\n",
        "      paraphrases.append(sentences)\n",
        "  return paraphrases\n",
        "\n"
      ],
      "metadata": {
        "id": "-8wNSanEqf3M"
      },
      "execution_count": null,
      "outputs": []
    },
    {
      "cell_type": "code",
      "source": [
        "paraphrase_bart(input_sentence)"
      ],
      "metadata": {
        "colab": {
          "base_uri": "https://localhost:8080/"
        },
        "id": "VaCoSoyOsIcV",
        "outputId": "fd374be3-7b5c-43d6-a631-9b2c57c4b343"
      },
      "execution_count": null,
      "outputs": [
        {
          "output_type": "stream",
          "name": "stderr",
          "text": [
            "/usr/local/lib/python3.10/dist-packages/transformers/generation/utils.py:1260: UserWarning: Using the model-agnostic default `max_length` (=20) to control thegeneration length. We recommend setting `max_new_tokens` to control the maximum length of the generation.\n",
            "  warnings.warn(\n"
          ]
        },
        {
          "output_type": "execute_result",
          "data": {
            "text/plain": [
              "[[['They were there to enjoy us and to pray for us.'],\n",
              "  ['They were there to enjoy us and to pray for us.'],\n",
              "  ['They were there to enjoy us and to pray for us.'],\n",
              "  ['They were there to enjoy us and to pray for us.'],\n",
              "  ['They were there to enjoy us and to pray for us.']]]"
            ]
          },
          "metadata": {},
          "execution_count": 6
        }
      ]
    },
    {
      "cell_type": "markdown",
      "metadata": {
        "id": "vJ7jsNC1shGo"
      },
      "source": [
        "#ChatGPT with a paraphrasing prompt\n"
      ]
    },
    {
      "cell_type": "code",
      "execution_count": null,
      "metadata": {
        "colab": {
          "base_uri": "https://localhost:8080/"
        },
        "id": "Jo4Tg-nml3Vn",
        "outputId": "2c88906f-ada7-4a0e-f700-6260052231d2"
      },
      "outputs": [
        {
          "output_type": "stream",
          "name": "stdout",
          "text": [
            "Requirement already satisfied: openai in /usr/local/lib/python3.10/dist-packages (0.28.0)\n",
            "Requirement already satisfied: requests>=2.20 in /usr/local/lib/python3.10/dist-packages (from openai) (2.31.0)\n",
            "Requirement already satisfied: tqdm in /usr/local/lib/python3.10/dist-packages (from openai) (4.66.1)\n",
            "Requirement already satisfied: aiohttp in /usr/local/lib/python3.10/dist-packages (from openai) (3.8.5)\n",
            "Requirement already satisfied: charset-normalizer<4,>=2 in /usr/local/lib/python3.10/dist-packages (from requests>=2.20->openai) (3.2.0)\n",
            "Requirement already satisfied: idna<4,>=2.5 in /usr/local/lib/python3.10/dist-packages (from requests>=2.20->openai) (3.4)\n",
            "Requirement already satisfied: urllib3<3,>=1.21.1 in /usr/local/lib/python3.10/dist-packages (from requests>=2.20->openai) (2.0.4)\n",
            "Requirement already satisfied: certifi>=2017.4.17 in /usr/local/lib/python3.10/dist-packages (from requests>=2.20->openai) (2023.7.22)\n",
            "Requirement already satisfied: attrs>=17.3.0 in /usr/local/lib/python3.10/dist-packages (from aiohttp->openai) (23.1.0)\n",
            "Requirement already satisfied: multidict<7.0,>=4.5 in /usr/local/lib/python3.10/dist-packages (from aiohttp->openai) (6.0.4)\n",
            "Requirement already satisfied: async-timeout<5.0,>=4.0.0a3 in /usr/local/lib/python3.10/dist-packages (from aiohttp->openai) (4.0.3)\n",
            "Requirement already satisfied: yarl<2.0,>=1.0 in /usr/local/lib/python3.10/dist-packages (from aiohttp->openai) (1.9.2)\n",
            "Requirement already satisfied: frozenlist>=1.1.1 in /usr/local/lib/python3.10/dist-packages (from aiohttp->openai) (1.4.0)\n",
            "Requirement already satisfied: aiosignal>=1.1.2 in /usr/local/lib/python3.10/dist-packages (from aiohttp->openai) (1.3.1)\n"
          ]
        }
      ],
      "source": [
        "!pip install openai"
      ]
    },
    {
      "cell_type": "code",
      "execution_count": null,
      "metadata": {
        "id": "LJ3510NVgFEb"
      },
      "outputs": [],
      "source": [
        "import openai\n",
        "import torch\n",
        "import pandas as pd\n",
        "import numpy as np\n",
        "\n",
        "# INSERT API KEY HERE\n",
        "#openai.api_key = \"\"\n",
        "\n",
        "def paraphrase_chatgpt(sentences):\n",
        "  rewritings = []\n",
        "  # sentences = pd.read_csv(\"fallback.csv\", usecols=['sentence'], names=['sentence'])\n",
        "  for row in sentences:\n",
        "    if row != \"sentence\":\n",
        "      sent = []\n",
        "      for i in range(1,6):\n",
        "        prompt = [f\"Paraphrase the following: '{row}'\"]\n",
        "        response = openai.Completion.create(\n",
        "                    engine='text-davinci-003',\n",
        "                    prompt=prompt,\n",
        "                    temperature=0.7,\n",
        "                    max_tokens=1500,\n",
        "                    n=1,\n",
        "                    stop=None)\n",
        "            # print(prompt)\n",
        "        message = response.choices[0].text.strip()\n",
        "        sent.append(message)\n",
        "      print(message)\n",
        "      rewritings.append(sent)\n",
        "  return rewritings\n",
        "\n",
        "\n"
      ]
    },
    {
      "cell_type": "code",
      "source": [],
      "metadata": {
        "id": "aH6-xeR25PTj"
      },
      "execution_count": null,
      "outputs": []
    },
    {
      "cell_type": "code",
      "execution_count": null,
      "metadata": {
        "id": "rg4yo8T3l1vS"
      },
      "outputs": [],
      "source": [
        "# print(type(message))"
      ]
    },
    {
      "cell_type": "code",
      "source": [
        "# print(rewritings)"
      ],
      "metadata": {
        "id": "MJvyLoLX3ud8"
      },
      "execution_count": null,
      "outputs": []
    },
    {
      "cell_type": "code",
      "execution_count": null,
      "metadata": {
        "id": "NZfiMGzxntzo"
      },
      "outputs": [],
      "source": [
        "# data = pd.read_csv(\"personal_creativity.csv\")\n",
        "new_sentences = pd.Series(rewritings)\n",
        "\n",
        "# new_sentences.to_csv(\"creativity_rewritings.csv\", index=False)\n",
        "new_sentences.to_csv(\"newtext.csv\", index=False)"
      ]
    },
    {
      "cell_type": "code",
      "source": [
        "print(rewritings)"
      ],
      "metadata": {
        "colab": {
          "base_uri": "https://localhost:8080/"
        },
        "id": "bIu7NmEkDjE0",
        "outputId": "c59659b7-1ff3-4b1d-fa3d-59715671ca49"
      },
      "execution_count": null,
      "outputs": [
        {
          "output_type": "stream",
          "name": "stdout",
          "text": [
            "['\"Let\\'s get creative! I\\'ve got some fun exercises that\\'ll help you tap into your own creativity. Pick one and let\\'s get started - it\\'s time to unleash your inner artist!\"', \"Great! Let's get creative! Here's an exercise to help you flex those creative muscles: Choose one and let's get to work! I'm here for you every step of the way!\", \"Let's get creative! Here's a fun exercise to help you practice your personal creativity. Pick one and let's get started!\", \"Hey there! Here to help you get creative! Let's try something new - why don't you try one of these exercises to flex that creative muscle? It'll be fun, I promise! Let's do this!\", \"Let's get creative! Here's an idea: why don't you pick an exercise to help you practice your personal creativity? Just pick one and let's get started! It's gonna be fun, I promise!\", \"Great! Let's get your creativity flowing. Here's a suggestion: why not try one of these exercises? They'll help you tap into your inner creativity and give you a boost! Plus, it'll be fun! So go ahead and pick one - you won't regret it!\", \"Great! I'm here to help you practice your personal creativity. Let's explore a few exercises to get your creative juices flowing. Why don't you pick one to start? It'll be fun!\", \"Wow, sounds like you're ready to tap into your personal creativity! Let's get started - I have the perfect exercise for you. Ready? Choose one and enjoy the creative flow!\", \"Hey there! I'm here to help you get creative! Here are a few exercises to help you find your inner creative genius. Pick one and get started! Let's get creative!\", '\"Hey there, sounds like you\\'re ready to get your creative juices flowing! Let me help you out with that. Here are some fun exercises to help you unlock your creative potential. Pick one and let\\'s get started!\"', '\"Ready to practice your personal creativity? Don\\'t worry, I\\'m here to help! Here are some exercises to get you on your way. Let\\'s find one that\\'s perfect for you!\"', \"Hey there, let me help you out. I've got some amazing exercises that can help you strengthen your creative muscles! Ready to get started? Pick one and let's get creative!\", \"Let's get creative! Here are some fun exercises to help you tap into your creative energy. Pick one and give it a try - you won't regret it! Let's get your creative juices flowing!\", \"Let me give you a hand! Here are some exercises to help you get your creative juices flowing. Pick one that speaks to you! You've got this!\", \"Great! Let's get creative! Here are some exercises to help you channel your energy and power up your creative process. Pick one and let's get started!\", \"Let's get creative! Here's something fun you can do to help you get your creative juices flowing. Pick one, give it a try, and see what happens! You never know - you might just surprise yourself!\", '\"Ready to take your creativity to the next level? Let\\'s do this together! Here are some exercises that can help you exercise your personal creativity. Which one would you like to try?\"', \"Hey there! Let me help you tap into your creativity. Here's a super fun exercise to get you started: pick one activity from the list and give it a go! Who knows, you might just uncover some creative superpowers!\", \"Oh wow, sounds like you're looking to get creative! I've got just the thing - here are some exercises to help you out. Pick one and give it a shot - I'm sure you'll have a blast!\", '\"Let me help you out with that! Here are some exercises that can help you get your creative juices flowing. Pick one and let\\'s get started!\"', \"Hey there! I understand how important it is to practice your personal creativity. Here's something that can help: why not pick one of these awesome exercises to get yourself started? I'm here to help, so don't hesitate to reach out if you need a hand.\", \"Hey, let me help you out! Here's an idea - why don't you try out some exercises to enhance your creativity? It'll be fun, I promise! Pick whichever one you like, and let's get started!\", \"Let's get creative! Here's a tip: pick one of these exercises and give it a go. I'm here for you every step of the way, so don't be afraid to get creative! Trust me, you'll be surprised by the results!\", \"Hey there! Ready to work on your personal creativity? Let me help you out. Here are some great exercises to get your creative juices flowing. Pick one and give it a try! I'm sure you'll feel more inspired and energized after you do. Have fun!\", '\"Ready to unleash your creative genius? Let\\'s get started! You\\'ve got some great exercises to help you practice your personal creativity - pick one and let\\'s get going!\"', '\"Hey there! I\\'m here to help you in any way I can. Why don\\'t we start by practicing some exercises to help you enhance your personal creativity? Here are a few great ideas--take your pick and let\\'s get going!\"', \"Hey there! Let me help you out. I've got some fun exercises to get your creative juices flowing. Why don't you pick one and get started? Who knows, you might just surprise yourself!\", \"Let's get creative! Here's a tip: pick one of these exercises to help get your creative juices flowing. Trust me, if you put in the effort, you'll be amazed at the results! Go for it!\", \"Let's get your creative juices flowing! Here's a fun exercise to help you out - just pick one and give it a go! I'm here to help if you need any guidance. Let's make something awesome together!\", \"Hey there! Ready to practice your personal creativity? Let me help you out. Here's a great list of exercises that can help you out. Pick one and get started! And don't worry, you got this!\", \"Great job! You're taking important steps to boost your creativity. This is an awesome accomplishment and something to be proud of! Congratulations!\", \"Great job! You're on your way to unlocking your creative potential. Keep up the awesome work and you'll be a creative superstar in no time!\", \"Great work! You're on your way to tapping into your inner creativity. Now you have the tools to take your creativity to the next level. Keep at it, and you'll be amazed at where you can go!\", \"Wow, congratulations! You're taking a big step towards developing your creativity! This is an amazing accomplishment that will help you unleash your full potential! Keep up the great work!\", \"Great job! You're on your way to becoming a master of creativity! Keep it up, and you'll be creating masterful works of art in no time. Congratulations!\", 'Hey there! You should be proud of yourself for taking the steps to enhance your creativity. Practicing these personal creativity habits will help you tap into your creative potential. Congratulations! You can do it!', '\"Way to go! You\\'re taking the steps to boost your creativity. Congrats on jumping in and committing to your creative self!\"', \"Great job! You're taking the steps to become more creative and that's something to celebrate. Keep up the good work and your creativity will thank you!\", \"Great job! You've taken the first step to unlocking your creative potential. Keep up the awesome work - you're on your way to becoming even more creative. Congrats!\", \"Wow! You did it! You are officially on your way to enhanced creativity. Congratulations! You should be proud of yourself for taking the time to practice these creativity habits. Here's to more sparks of genius from you!\", \"Great job! You're taking the steps to unlock your creative potential. With these habits, you'll be able to power up your creativity like never before. Keep it up!\", '\"Way to go! You\\'ve taken the first step to enhancing your creativity. Now, let\\'s get to work on those powerful habits and energy channeling. Trust me, it\\'ll be worth it!\"', \"Great job! You're already taking steps to enhance your creativity. Let's keep it up! Here's to a more creative and fulfilling life!\", \"Great job! You're on your way to becoming a creativity pro. With these habits, you can open up new paths of creativity and become the master of your own artistic destiny. Congratulations!\", \"Great job! You're on your way to unlocking your creative potential! Keep up the awesome work and you'll be a master of creativity in no time. Congratulations!\", '\"Way to go! You\\'re taking the first steps to enhancing your creativity. Keep up the great work and you\\'ll be a creative powerhouse in no time!\"', '\"You did it! You\\'ve taken the first step in growing your creativity. Keep going, you\\'ve got this! You can do anything you set your heart and mind to. Congratulations!\"', '\"You did it! You took the first step towards enhancing your creativity. Congratulations! You\\'ve just started on a journey that will help you tap into your creative potential. Let\\'s keep going and get creative!\"', 'Great job! You’re taking the first steps to becoming a creative powerhouse! Keep it up and you’ll be a creative genius in no time. Congrats!', \"Great job! You're already on your way to unleashing your creativity! Keep up the good work and you'll be seeing results in no time!\", \"Great job! You're already on your way to becoming a master of creativity. Making sure to practice those new habits is the key to unlocking your creative potential. Keep up the great work!\", \"Great job! You're on your way to unlocking your creative potential. Keep up the awesome work and you'll be tapping into your creative genius in no time!\", \"Great job! You're on the right track to enhancing your creativity. Keep up the good work and you'll be a creative powerhouse in no time! Congrats!\", \"Great job! You are on your way to enhancing your creativity. Keep up the good work and you'll be creating like a pro in no time. Congrats!\", \"Wow! You've taken a big step towards unlocking your creative potential. You should be proud of yourself! Let's get started on those creative habits and see how far you can go!\", \"Great job! You're taking steps to enhance your creativity and that's awesome. Let's keep this creative energy going and see where it takes us!\", \"Great job! You're doing an awesome job of enhancing your creativity. Keep it up and you'll be a super creative person in no time. Congrats!\", \"Great job! You're on your way to becoming a creative master! Keep up the good work and you'll be flexing your creative muscles in no time. Congratulations!\", \"Great job! You're on your way to unlocking your creative potential. Keep up the good work and you'll be amazed at the improved creativity you experience. Congratulations!\", \"Great job! You're already on your way to becoming a creative genius. Keep up the good work and you'll be unlocking amazing creative ideas in no time!\", '\"Ready for another exercise to help boost your creativity? Or would you rather go back to honing your curiosity or try something else? The choice is yours!\"', \"Hey there, would you like to have some fun and try out another exercise to help you build up your personal creativity habits? Or would you prefer to go back to exploring curiosity, or any of the other categories of exercises? Whichever you choose, I'm here to help you get the most out of your creativity journey.\", \"Hey there! It looks like you're on a roll with creativity exercises! Would you like another one to help boost your personal creativity? Or would you rather go back to trying out curiosity or other categories of exercises? Either way, you're doing great!\", \"Hi there! Feeling creative yet? If you're ready for more exercises to enhance your creative habits, I'm here to help. Or, if you're feeling like you'd prefer to go back to working on your curiosity or any other categories of exercises, let me know. I'm here to help you find the perfect creative tools for you!\", '\"Ready to keep the creativity flowing? Let\\'s do another exercise to help nurture those creative habits. Or maybe you\\'d like to practice curiosity or check out some other cool exercises? It\\'s totally up to you - the choice is yours!\"', \"Would you like to keep going on your journey to creative enlightenment? Or do you feel like you've had enough creative exercise for now and want to explore something else? Either way, I'm here to help you navigate this creative process.\", \"Hey there! Are you ready for another exercise to help you with your personal creativity habits? Or would you like to go back and practice curiosity or explore other categories of exercises? Let's get creative together!\", \"Hey there! Feeling creative yet? You've already conquered curiosity and now you're ready to tackle personal creativity habits! Do you want to dive in and learn more about building great habits? Or would you rather go back and practice other exercises? Your call!\", \"Hey there! Are you feeling creative and energized? Ready for another exercise to help you hone your creativity skills? Or would you like to go back to the curiosity exercise or explore something else? Let me know what you're feeling and I'll help you out!\", '\"Hey there, feeling creative yet? Would you like to try another exercise to help you get your creative juices flowing? Or, would you prefer to go back to exercises around curiosity or other topics? Your call!\"', \"Hey there! Wanna keep exploring ways to enhance your personal creativity? Or would you prefer to go back to trying out the curiosity exercises? Make your choice and let's keep the creative juices flowing!\", \"Hey there, would you like to try another exercise to help you reach your creative goals? I can provide one if you'd like, or we can go back and brush up on curiosity exercises or any other categories you're interested in. Whichever one you choose, I'm here to help and support your journey!\", '\"Hey there! Ready for another creative boost? We\\'ve got plenty of exercises to help with your personal creativity habits. Or maybe you\\'d like to practice more curiosity or explore other categories of exercises? What would you like to do?\"', \"Hey there! Feeling creative? Let's flex those creative muscles some more with another exercise. Shall we give it a go? Or if you'd rather, you can go back to practicing curiosity or explore other categories of exercises. What do you think?\", \"Hey there, would you like to keep exploring your personal creativity habits, or would you like to switch things up and try something new? Either way, I'm here to help you out!\", '\"Hey there! Ready for some more creative magic? We can keep going with exercises to help with your personal creativity habits, or if you\\'d like, we can take a break and go back to practicing curiosity or other categories of exercises. What would you like to do?\"', \"Hey, would you like to try out another exercise to help you with your personal creativity habits? Or would you prefer to practice those exercises that help you to stay curious? Whichever you choose, I'm here to support you!\", '\"Ready to make more progress on your creativity journey? Ready to try out another exercise? Or would you rather go back to honing your curiosity or checking out other creative exercises?\"', \"Hey there! Are you ready for another super fun exercise to help you enhance your personal creativity habits? Or do you feel like practicing your curiosity or exploring other categories of exercises? The choice is yours! Let me know what you want to do and I'll be here to help you out every step of the way.\", \"Hey there! Would you like to try another exercise to help boost your personal creativity habits? Or are you feeling curious about something else, like other categories of exercises? Whichever you choose, I'm here to help!\", \"Hey there! Would you like to dive into another exercise to help with your creativity habits? Or maybe you'd rather go back and practice some more curiosity exercises? Either way, I'm here to help!\", \"Hey there, creative one! Would you like to keep flexing your creative muscles with another exercise? Or would you prefer to go back to exploring curiosity or other categories of exercises? Either way, you're doing an amazing job!\", \"Hey there! Ready to take your creativity game to the next level? I've got another exercise that'll help you with your personal creativity habits. Wanna give it a try, or would you prefer to go back to practicing curiosity or explore some other categories of exercises? Let me know what you think!\", \"Hey there! Feeling creative yet? Ready to tackle a new exercise to help you with your personal creativity habits? Or would you rather go back to honing those curiosity skills or exploring other categories of exercises? Let me know what you'd like and I'll help you get there.\", \"Hey there! Ready for another exercise to help boost your creativity? Or would you rather go back and practice curiosity or something else? Let me know what you'd like to do and I'm here to help!\", 'Hey there! Ready for another exercise to help with your personal creativity? Or would you rather explore something else? Let me know what works best for you!', '\"Well, looks like you\\'ve been doing a great job with your creativity! Ready to level up? I\\'ve got another exercise here that\\'ll help you with your personal creativity habits. Or, if you\\'d rather, we can just go back to practicing curiosity and explore some other categories of exercises. What do you think? Ready to get creative?\"', \"Hey there! Ready to get your creative juices flowing with another exercise? Or maybe you'd like to go back to exploring curiosity or something else? Let me know what you'd like to do!\", \"Hey there, how are you doing? Feeling creative yet? I know it can be a bit of a struggle sometimes, but don't worry! We've got your back. So here's the thing, would you like to try out another exercise to help with your personal creativity habits? Or would you rather go back to practicing curiosity or other categories of exercises? The choice is yours! Whichever you pick, we've got you covered!\", '\"Ready for another exercise to help you get creative? Or would you rather explore curiosity or some other topics? I\\'m here to help however you prefer!\"']\n"
          ]
        }
      ]
    },
    {
      "cell_type": "code",
      "source": [],
      "metadata": {
        "id": "HAYKSLvbDuGJ"
      },
      "execution_count": null,
      "outputs": []
    },
    {
      "cell_type": "markdown",
      "source": [
        "FLUENCY SCORE"
      ],
      "metadata": {
        "id": "qOmGPeKFl8ue"
      }
    },
    {
      "cell_type": "code",
      "source": [
        "!pip install textdistance"
      ],
      "metadata": {
        "colab": {
          "base_uri": "https://localhost:8080/"
        },
        "id": "hbsq96pNtpZ2",
        "outputId": "56313b02-b95f-4d14-bf64-d6c755cc8c53"
      },
      "execution_count": null,
      "outputs": [
        {
          "output_type": "stream",
          "name": "stdout",
          "text": [
            "Requirement already satisfied: textdistance in /usr/local/lib/python3.10/dist-packages (4.5.0)\n"
          ]
        }
      ]
    },
    {
      "cell_type": "code",
      "source": [
        "from tokenizers.processors import BertProcessing\n",
        "from tokenizers import ByteLevelBPETokenizer\n",
        "from transformers import (\n",
        "    T5ForConditionalGeneration,\n",
        "    T5Tokenizer,\n",
        "    GPT2Tokenizer,\n",
        "    GPT2LMHeadModel,\n",
        "    BertTokenizer,\n",
        "    BertModel,\n",
        "    AutoModelWithLMHead,\n",
        "    AutoTokenizer\n",
        ")\n",
        "from nltk.corpus import stopwords\n",
        "import textdistance as td\n",
        "import numpy as np\n",
        "import argparse\n",
        "import torch\n",
        "from torch import nn\n",
        "import torch.nn.functional as F\n",
        "import re\n",
        "import nltk\n",
        "nltk.download(\"stopwords\")\n",
        "import pandas as pd"
      ],
      "metadata": {
        "colab": {
          "base_uri": "https://localhost:8080/"
        },
        "id": "8N_fVvvItjef",
        "outputId": "e056b465-497d-4e80-f0e1-abb4f4f273b5"
      },
      "execution_count": null,
      "outputs": [
        {
          "output_type": "stream",
          "name": "stderr",
          "text": [
            "[nltk_data] Downloading package stopwords to /root/nltk_data...\n",
            "[nltk_data]   Package stopwords is already up-to-date!\n"
          ]
        }
      ]
    },
    {
      "cell_type": "code",
      "source": [
        "\n",
        "\n",
        "# Load pre-trained GPT2 language model weights\n",
        "with torch.no_grad():\n",
        "    gptmodel = GPT2LMHeadModel.from_pretrained('gpt2')\n",
        "    gptmodel.eval()\n",
        "\n",
        "# Load pre-trained GPT2 tokenizer\n",
        "gpttokenizer = GPT2Tokenizer.from_pretrained('gpt2')\n",
        "\n",
        "# simple tokenizer + stemmer\n",
        "regextokenizer = nltk.tokenize.RegexpTokenizer(r'\\w+')\n",
        "stemmer = nltk.stem.PorterStemmer()\n",
        "\n",
        "def perplexity(sentence):\n",
        "    '''\n",
        "    Computes the PPL of an utterance using GPT2 LM\n",
        "    '''\n",
        "    tokenize_input = gpttokenizer.encode(sentence)\n",
        "    tensor_input = torch.tensor([tokenize_input])\n",
        "    with torch.no_grad():\n",
        "        loss = gptmodel(tensor_input, labels=tensor_input)[0]\n",
        "    return np.exp(loss.detach().numpy())\n",
        "\n",
        "def repetition_penalty(sentence):\n",
        "    '''\n",
        "    Adds a penalty for each repeated (stemmed) token in\n",
        "    an utterance. Returns the total penalty of the sentence\n",
        "    '''\n",
        "    word_list = regextokenizer.tokenize(sentence.lower())\n",
        "    filtered_words = [\n",
        "        word for word in word_list if word not in stopwords.words('english')]\n",
        "    stem_list = [stemmer.stem(word) for word in filtered_words]\n",
        "    penalty = 0\n",
        "    visited = []\n",
        "    for w in stem_list:\n",
        "        if w not in visited:\n",
        "            visited.append(w)\n",
        "        else:\n",
        "            penalty += 0.001\n",
        "    return penalty\n",
        "\n",
        "def fluency_score(sentence):\n",
        "    '''\n",
        "    Computes the fluency score of an utterance, given by the\n",
        "    inverse of the perplexity minus a penalty for repeated tokens\n",
        "    '''\n",
        "    ppl = perplexity(sentence)\n",
        "    penalty = repetition_penalty(sentence)\n",
        "    score = (1 / ppl) - penalty\n",
        "    # # normalise by the highest possible fluency computed on the corpus:\n",
        "    # normalised_score = score / 0.155\n",
        "    # if normalised_score < 0:\n",
        "    #     normalised_score = 0\n",
        "    return score\n",
        "\n",
        "\n",
        "\n"
      ],
      "metadata": {
        "id": "em1DlAfXl_EY"
      },
      "execution_count": null,
      "outputs": []
    },
    {
      "cell_type": "code",
      "source": [],
      "metadata": {
        "id": "_Hh7jTiDP07l"
      },
      "execution_count": null,
      "outputs": []
    },
    {
      "cell_type": "markdown",
      "source": [
        "TESTING T5\n"
      ],
      "metadata": {
        "id": "rwG7i2AdnXhL"
      }
    },
    {
      "cell_type": "markdown",
      "source": [
        "First, generate scores"
      ],
      "metadata": {
        "id": "T_3IeSaIv184"
      }
    },
    {
      "cell_type": "code",
      "source": [],
      "metadata": {
        "id": "0SUapNxKnr1C"
      },
      "execution_count": null,
      "outputs": []
    },
    {
      "cell_type": "code",
      "source": [
        "df = pd.read_csv(\"input.csv\", encoding='UTF-8', usecols=['sentence'], names=['sentence'])\n",
        "df1 = df.to_numpy()\n",
        "\n",
        "df2 = df[\"sentence\"].dropna()\n",
        "len(df2)\n",
        "\n"
      ],
      "metadata": {
        "colab": {
          "base_uri": "https://localhost:8080/"
        },
        "id": "_b929d5qnXUL",
        "outputId": "9a0f8cb1-c616-494c-e56b-95ed9bcee8a9"
      },
      "execution_count": null,
      "outputs": [
        {
          "output_type": "execute_result",
          "data": {
            "text/plain": [
              "11"
            ]
          },
          "metadata": {},
          "execution_count": 12
        }
      ]
    },
    {
      "cell_type": "code",
      "source": [
        "df2.head()"
      ],
      "metadata": {
        "colab": {
          "base_uri": "https://localhost:8080/"
        },
        "id": "oyReC4KUoPMC",
        "outputId": "9e850d7a-87b6-43f5-c05f-720cf64b778b"
      },
      "execution_count": null,
      "outputs": [
        {
          "output_type": "execute_result",
          "data": {
            "text/plain": [
              "0                                             sentence\n",
              "1    It can be difficult being creative and humorou...\n",
              "2    Awesome! Let's get creative! Here's an exercis...\n",
              "3    I invite you to go through this exercise to tr...\n",
              "4    I would like to try and help you feel better. ...\n",
              "Name: sentence, dtype: object"
            ]
          },
          "metadata": {},
          "execution_count": 13
        }
      ]
    },
    {
      "cell_type": "markdown",
      "source": [
        "perform paraphrasing using T5 on chatgpt dataset and save to another df"
      ],
      "metadata": {
        "id": "-d99iJeYobRq"
      }
    },
    {
      "cell_type": "code",
      "source": [
        "t5 = []\n",
        "for row in df2:\n",
        "  if row != \"sentence\":\n",
        "    print(row)\n",
        "    t5_par = paraphraseT5(row)\n",
        "    t5.append(t5_par)"
      ],
      "metadata": {
        "colab": {
          "base_uri": "https://localhost:8080/"
        },
        "id": "2YXU_VNjoPou",
        "outputId": "f8ce21f2-d2a5-455b-97e2-d89dd376a4bd"
      },
      "execution_count": null,
      "outputs": [
        {
          "output_type": "stream",
          "name": "stdout",
          "text": [
            "It can be difficult being creative and humorous at the same time. But don't worry, it's definitely possible! I'm here to help you through it. Self-Initiated Humour Protocol, rooted in humour theory and self-attachment technique, is the foundation for these exercises. This will help you cultivate a playful and whimsical attitude which is essential to developing creative thoughts. With a relaxed environment, you can explore different pondering and be creative!\n"
          ]
        },
        {
          "output_type": "stream",
          "name": "stderr",
          "text": [
            "/usr/local/lib/python3.10/dist-packages/transformers/generation/configuration_utils.py:362: UserWarning: `do_sample` is set to `False`. However, `temperature` is set to `0.7` -- this flag is only used in sample-based generation modes. You should set `do_sample=True` or unset `temperature`.\n",
            "  warnings.warn(\n"
          ]
        },
        {
          "output_type": "stream",
          "name": "stdout",
          "text": [
            "Awesome! Let's get creative! Here's an exercise to help you express your creativity: Pick one and let's get to it! I'm here with you every step of the way!\n",
            "I invite you to go through this exercise to try and overcome these negative emotions. It will help you feel better.\n",
            "I would like to try and help you feel better. Let's start with this exercise. When you're ready, press 'continue'\n",
            "Now how about we focus on your emotions first and how to make you feel better? When ready, please follow the next steps by pressing 'continue'.\n",
            "I would like to take a short pause first and make sure you pay attention to those emotions. Let's go through a simple exercise.\n",
            "Oops, I didn't get that. Do you think you could say that again in a different way?\n",
            "I'm not sure I got that. Could you please say it in a different way?\n",
            "Oops, sorry about that! Let me try again, could you please rephrase?\n",
            "Nurturing your natural curiosity can help you to maintain your enthusiasm for discovering new things, stay open to new ideas, and keep pursuing what you're passionate about.\n"
          ]
        }
      ]
    },
    {
      "cell_type": "code",
      "source": [
        "print(t5)"
      ],
      "metadata": {
        "colab": {
          "base_uri": "https://localhost:8080/"
        },
        "id": "WhS-ICXlt_BP",
        "outputId": "1e139a30-b9f2-40be-f3f1-7790a31aeb66"
      },
      "execution_count": null,
      "outputs": [
        {
          "output_type": "stream",
          "name": "stdout",
          "text": [
            "[[\"It's a tough task to be both creative and humorous at the same time. However, I can assist you in achieving this goal. The Self-Initiated Humour Protocol is built on humour theory and self-attachment technique. This will help you develop witty and playful thoughts that are essential for developing creative thinking skills. With calming surroundings, you can engage in diverse contemplations and be imaginative!\", 'The combination of creativity and humor is a difficult skill to acquire. However, I can assist you in achieving this goal by teaching you the Self-Initiated Humour Protocol, which involves using humour theory and self-attachment technique to develop creative thinking skills. With eased-up mind, you can engage in diverse contemplations and be imaginative!', 'Developing creative and humorous thoughts can be challenging, but there are ways to overcome this obstacle. The Self-Initiated Humour Protocol, which utilizes humOUR theory and self-attachment technique, is designed to help you develop imaginative thinking by using a relaxed environment that allows for experimentation and creativity!', \"I know it's hard to be both creative and humorous at the same time, but that' s okay because I help with the Self-Initiated Humour Protocol which is basically based off of humour theory and the self-attachment technique. These exercises will help you develop a playful and whimsical side which helps you form creative thoughts! With such relaxed surroundings there are lots of opportunities to think creatively and be creative!\", 'There is a difference between being creative and humorous at the same time. But that doesn\\'t mean you can\\' not be! This Self-Initiated Humour Protocol, grounded in some sort of ‘ideal’ humour theory and some kind of self-attachment technique, will help you develop those playful yet whimsical side thoughts which are essential for creative thinking; with varying environments to think in and be creative on different occasions!\"'], [\"I'm pinning that, man! Let's get creative some more! This is an exercise to let us all have one idea and show off our skills: Join me on this journey today!\", \"Goodness! Let's get creative! This is a way to showcase your creativity: Pick one and let'll be busy exploring! I'm excited to share with you all the time!\", \"Awesome! Let's get creative! This is a way to showcase your creativity: Pick one and let'll be busy exploring! I'm excited to share with you all the time!\", \"HEALTHY CRUSH: I have to give you an idea! Here's how do we get creative with this exercise: Pick one and let me know where it goes!\", \"Well, that's awesome! Let'll get creative! This is a way to showcase your creativity: Pick ONE and let'S DIE! I'm on board right now with every action!\"], ['You must try this exercise to let go of these negative feelings. It will make you feel better.', 'It\\'s important for you to try and get over these negative feelings. Do it this way and you will be glad you did.\"', \"If you're feeling down, do this exercise. It will be a positive experience.\", 'This is a great way to overcome these negative feelings. I encourage you to do it and feel better.', 'I encourage you to do this exercise to overcome these negative emotions and feel better.'], [\"I want to help you feel better. Let's start with this exercise. When ready, simply click 'continue'.\", \"Let me begin with a workout to try and improve your mood. When finished, simply press 'continue'.\", \"My intention is to assist you in feeling better. First, we should start with this routine. When finished, simply select 'continue' and begin working.\", \"Trying to improve your well-being. This is the first step in our exercise plan; when you're ready, simply click ’continue’ and proceed.\", 'I am here to help you. Let me start with this exercise and when done press \\'continue button\"'], [\"Let's prioritize your emotions over the rest of the issues, and work towards a cure by pressing 'keep going' once you are prepared.\", \"Can you please let me know how I can improve my emotional state? If possible, simply click on 'continue' to continue.\", \"Let's examine how we can improve our emotional state and follow up with 'keep going'.\", 'Allow me to talk about how I can improve my emotional state and follow up with pressing \\'continue\" once I am prepared.', \"We want to focus on your emotions and how we can improve them. When ready, go ahead and press 'continue!'\"], [\"Let's pause briefly to ensure you concentrate on those feelings. We can perform a simple exercise.\", \"Allow me to momentarily pause and ensure that you concentrate on those feelings. Let's perform a straightforward exercise.\", \"Firstly, I want to take a moment and ensure that you are paying attention to those feelings. Let's perform essentially an exercise.\", \"I want to take a moment and ensure that you are paying attention to those feelings. Let's perform essentially an exercise.\", \"Before you do anything, I want to take a moment and make sure that those feelings are being taken into account. Let's perform essentially an exercise.\"], [\"I'm sorry, didn't quite get it. Could you please repeat that again?\", \"Sorry, didn't quite get it. Could you clarify why?\", 'Can you clarify the meaning of \"that\"? I\\'m not sure how to respond.', \"sorry i didn't understand. can you repeat it again please?\", 'That was a mistake on my part. Would you be able to make up that again?'], ['Can you provide a different translation for \"I don\\'t get\"?', 'I\\'m not sure what you meant by \"that\" word.', \"Could you rephrase me to use something else? I'm not sure what it was.\", \"Would it be possible for you to express it differently, as I'm not entirely sure.\", 'What do you think I said?'], [\"Sorry, couldn't find the answer. Could you rephrase me?\", 'I apologize for my mistake, can you give me a rundown?', \"Can you rephrase me? Sorry, couldn't find the answer.\", 'Excuse me, could you please rephrase this sentence for me to be clear?', 'sorry cant you pls forgive me for that gesturing?'], ['By nurturing your natural curiosity, you can maintain your interest in discovering new things, stay open to innovative ideas, and pursue your passion.', 'Maintaining a natural inclination can help you maintain your interest in exploring new possibilities, stay open to innovative concepts, and pursue your interests.', 'Building your natural curiosity can help you maintain your interest in discovering new things, stay open to new ideas, and pursue your passions.', 'If you cultivate your natural curiosity, you can maintain a willingness to explore and pursue your interests while also being open to new ideas.', 'Developing an inherent interest in things will help you to stay curious, open-minded, and passionate about your interests.']]\n"
          ]
        }
      ]
    },
    {
      "cell_type": "code",
      "source": [
        "data = pd.read_csv(\"input.csv\")\n",
        "data['t5'] = pd.Series(t5)\n",
        "\n",
        "data.to_csv(\"input.csv\", index=False)"
      ],
      "metadata": {
        "id": "6dZoEB-qvXhH"
      },
      "execution_count": null,
      "outputs": []
    },
    {
      "cell_type": "code",
      "source": [
        "bart = []\n",
        "bart = paraphrase_bart(df2)\n"
      ],
      "metadata": {
        "colab": {
          "base_uri": "https://localhost:8080/"
        },
        "id": "UWjI7ZpCwVfF",
        "outputId": "034dae7b-016f-42f2-f0ad-4993b4ac9d05"
      },
      "execution_count": null,
      "outputs": [
        {
          "output_type": "stream",
          "name": "stderr",
          "text": [
            "/usr/local/lib/python3.10/dist-packages/transformers/generation/utils.py:1260: UserWarning: Using the model-agnostic default `max_length` (=20) to control thegeneration length. We recommend setting `max_new_tokens` to control the maximum length of the generation.\n",
            "  warnings.warn(\n"
          ]
        }
      ]
    },
    {
      "cell_type": "code",
      "source": [
        "print(bart)"
      ],
      "metadata": {
        "colab": {
          "base_uri": "https://localhost:8080/"
        },
        "id": "H8pJqnekwjp4",
        "outputId": "f0aff996-abcc-4b20-d31a-6eed45fc100a"
      },
      "execution_count": null,
      "outputs": [
        {
          "output_type": "stream",
          "name": "stdout",
          "text": [
            "[[[\"It can be difficult being creative and humorous at the same time. But don't worry,\"], [\"It can be difficult being creative and humorous at the same time. But don't worry,\"], [\"It can be difficult being creative and humorous at the same time. But don't worry,\"], [\"It can be difficult being creative and humorous at the same time. But don't worry,\"], [\"It can be difficult being creative and humorous at the same time. But don't worry,\"]], [[\"Let's get creative! Here's an exercise to help you express your creativity: Pick one\"], [\"Let's get creative! Here's an exercise to help you express your creativity: Pick one\"], [\"Let's get creative! Here's an exercise to help you express your creativity: Pick one\"], [\"Let's get creative! Here's an exercise to help you express your creativity: Pick one\"], [\"Let's get creative! Here's an exercise to help you express your creativity: Pick one\"]], [['I invite you to go through this exercise to try and overcome these negative emotions. It will'], ['I invite you to go through this exercise to try and overcome these negative emotions. It will'], ['I invite you to go through this exercise to try and overcome these negative emotions. It will'], ['I invite you to go through this exercise to try and overcome these negative emotions. It will'], ['I invite you to go through this exercise to try and overcome these negative emotions. It will']], [[\"I would like to try and help you feel better. Let's start with this exercise.\"], [\"I would like to try and help you feel better. Let's start with this exercise.\"], [\"I would like to try and help you feel better. Let's start with this exercise.\"], [\"I would like to try and help you feel better. Let's start with this exercise.\"], [\"I would like to try and help you feel better. Let's start with this exercise.\"]], [['Now how about we focus on your emotions first and how to make you feel better? When'], ['Now how about we focus on your emotions first and how to make you feel better? When'], ['Now how about we focus on your emotions first and how to make you feel better? When'], ['Now how about we focus on your emotions first and how to make you feel better? When'], ['Now how about we focus on your emotions first and how to make you feel better? When']], [['I would like to take a short pause first and make sure you pay attention to those emotions'], ['I would like to take a short pause first and make sure you pay attention to those emotions'], ['I would like to take a short pause first and make sure you pay attention to those emotions'], ['I would like to take a short pause first and make sure you pay attention to those emotions'], ['I would like to take a short pause first and make sure you pay attention to those emotions']], [[\"Oops, I didn't get that. Do you think you could say that again in\"], [\"Oops, I didn't get that. Do you think you could say that again in\"], [\"Oops, I didn't get that. Do you think you could say that again in\"], [\"Oops, I didn't get that. Do you think you could say that again in\"], [\"Oops, I didn't get that. Do you think you could say that again in\"]], [[\"I'm not sure I got that. Could you please say it in a different way?\"], [\"I'm not sure I got that. Could you please say it in a different way?\"], [\"I'm not sure I got that. Could you please say it in a different way?\"], [\"I'm not sure I got that. Could you please say it in a different way?\"], [\"I'm not sure I got that. Could you please say it in a different way?\"]], [['Oops, sorry about that! Let me try again, could you please rephrase?'], ['Oops, sorry about that! Let me try again, could you please rephrase?'], ['Oops, sorry about that! Let me try again, could you please rephrase?'], ['Oops, sorry about that! Let me try again, could you please rephrase?'], ['Oops, sorry about that! Let me try again, could you please rephrase?']], [['Nurturing your natural curiosity can help you maintain your enthusiasm for discovering new things, stay'], ['Nurturing your natural curiosity can help you maintain your enthusiasm for discovering new things, stay'], ['Nurturing your natural curiosity can help you maintain your enthusiasm for discovering new things, stay'], ['Nurturing your natural curiosity can help you maintain your enthusiasm for discovering new things, stay'], ['Nurturing your natural curiosity can help you maintain your enthusiasm for discovering new things, stay']]]\n"
          ]
        }
      ]
    },
    {
      "cell_type": "code",
      "source": [
        "data1 = pd.read_csv(\"input.csv\")\n",
        "data1['bart'] = pd.Series(bart)\n",
        "\n",
        "data1.to_csv(\"input.csv\", index=False)"
      ],
      "metadata": {
        "id": "49W0Aw4rx4aL"
      },
      "execution_count": null,
      "outputs": []
    },
    {
      "cell_type": "code",
      "source": [
        "chatgpt = paraphrase_chatgpt(df2)"
      ],
      "metadata": {
        "colab": {
          "base_uri": "https://localhost:8080/"
        },
        "id": "r7PR7Sm1xGKB",
        "outputId": "2259ae2e-209b-4728-bbb4-d2753b52e451"
      },
      "execution_count": null,
      "outputs": [
        {
          "output_type": "stream",
          "name": "stdout",
          "text": [
            "It may be hard to be funny and inventive simultaneously. Don't fret, though, it is definitely doable! I'm here to assist you in this process. Self-Initiated Humour Protocol, based on humor theory and self-attachment technique, serves as the basis for these drills. This will help you cultivate a lighthearted and fanciful attitude which is necessary for formulating imaginative ideas. With a comfortable atmosphere, you can look into various ideas and be imaginative!\n",
            "Fantastic! Let's get imaginative! Here's an activity to help you show off your creative side: Choose one and let's go! I'm here with you during the entire process!\n",
            "I urge you to complete this activity in order to combat these negative feelings. Doing so will give you a sense of relief.\n",
            "I want to assist you in feeling better. Let's begin with this exercise. Once you are ready, click 'continue'.\n",
            "Let's start by concentrating on how you're feeling and how we can get you back to feeling better. When you're ready, please select 'continue' to move on to the next steps.\n",
            "I want to take a momentary break and ensure you are aware of your feelings. Let's do a basic exercise now.\n",
            "I'm sorry, I didn't understand that. Can you please rephrase what you said?\n",
            "Could you rephrase what you just said for me?\n",
            "My apologies for that. May I attempt again? Would you mind restating what I said?\n",
            "Fostering your innate inquisitiveness can help you to sustain your eagerness for uncovering fresh concepts, remain receptive to novel thoughts, and continue chasing what you are passionate about.\n"
          ]
        }
      ]
    },
    {
      "cell_type": "code",
      "source": [
        "print(chatgpt)"
      ],
      "metadata": {
        "colab": {
          "base_uri": "https://localhost:8080/"
        },
        "id": "kGnlDuooxt2C",
        "outputId": "e4680954-455b-4700-9241-702e2bda8874"
      },
      "execution_count": null,
      "outputs": [
        {
          "output_type": "stream",
          "name": "stdout",
          "text": [
            "[[\"It can be a challenge to be both creative and humorous, but don't worry - you can definitely do it! I'm here to help you out. The Self-Initiated Humour Protocol, based on humour theory and self-attachment methods, provides the groundwork for these activities. This will assist you in developing a light-hearted and imaginative attitude, which is vital for coming up with creative ideas. If you keep your atmosphere relaxed, you can look into diverse musings and become more inventive.\", \"It can be hard to be both funny and inventive simultaneously. Don't stress, though, it is absolutely doable! I'm here to assist you with it. The Self-Initiated Humour Protocol, which is based on comedy theory and self-affiliation methods, will serve as the basis for these activities. This will help you cultivate an amusing and fanciful frame of mind which is indispensable in forming imaginative ideas. With a tranquil setting, you can experiment with various pondering and be imaginative!\", \"It can be a challenge to be both funny and inventive simultaneously, but don't be discouraged - it is achievable! Let me assist you with it. Utilizing Self-Initiated Humour Protocol, which is based upon humour theory and self-attachment method, will provide you with activities that will help you acquire a lighthearted and fanciful attitude that is indispensable for fostering imaginative ideas. With a relaxed atmosphere, you can delve into various musings and be imaginative.\", \"It may seem like a challenge to be both creative and funny, but there's no need to fear - it's absolutely possible! I'm here to guide you through it. By following the Self-Initiated Humour Protocol, which is based on humour theory and self-attachment technique, you can learn how to cultivate a more light-hearted, imaginative spirit, which is crucial to cultivating creative ideas. With a relaxed atmosphere, you can experiment and come up with new, inventive thoughts.\", \"It may be hard to be funny and inventive simultaneously. Don't fret, though, it is definitely doable! I'm here to assist you in this process. Self-Initiated Humour Protocol, based on humor theory and self-attachment technique, serves as the basis for these drills. This will help you cultivate a lighthearted and fanciful attitude which is necessary for formulating imaginative ideas. With a comfortable atmosphere, you can look into various ideas and be imaginative!\"], [\"Fantastic! Let's think outside the box! Here is an activity to help you explore your imagination: Choose one and let's start! I'm here to help you along the way!\", \"Wow! Let's get imaginative! Here's a task to assist you in displaying your inventiveness: Choose one and let's get started! I'll be here with you the whole time!\", \"Fantastic! Let's think outside the box! I have an activity to help you showcase your imagination: Choose one and let's get started! I'm here with you every step of the journey!\", \"Wonderful! Let's explore our imagination! Here is an activity to help you unlock your artistic potential: Choose one and let's start! I am here to support you throughout the entire process!\", \"Fantastic! Let's get imaginative! Here's an activity to help you show off your creative side: Choose one and let's go! I'm here with you during the entire process!\"], ['I suggest you engage in this activity to fight off these bad feelings. Doing so will make you feel more positive.', 'I encourage you to take on this task in an effort to manage these negative thoughts. Doing so should leave you feeling more positive.', 'I urge you to attempt this activity to battle these unfavorable emotions. It will aid in improving your mood.', 'I urge you to complete this activity in order to confront and conquer those unpleasant feelings. It should assist you in feeling more content.', 'I urge you to complete this activity in order to combat these negative feelings. Doing so will give you a sense of relief.'], [\"I want to assist you in improving your outlook. Let's get started with this activity. When you feel ready, click 'continue'.\", \"I'd like to aid in improving your wellbeing. Shall we begin with this exercise? Once you're ready, press 'continue'.\", \"I would like to assist you in feeling better. We can start with this activity. Once you're ready, click 'continue'.\", \"I want to do what I can to make you feel better. Let's begin with this exercise. When you're ready, press 'continue.'\", \"I want to assist you in feeling better. Let's begin with this exercise. Once you are ready, click 'continue'.\"], [\"Let's start by concentrating on your feelings and how to improve your mood. When you're ready, please proceed to the next step by pressing the 'continue' button.\", \"Let's start by concentrating on your emotional state and how to make you feel better. Once you're ready, move on to the next steps by hitting 'continue'.\", \"Let's start by concentrating on your feelings and how to make you feel better. When you're ready, please click 'Continue' to move on to the next steps.\", \"Let's start by concentrating on how we can make you feel better emotionally. When you're ready, press 'continue' to move on to the next steps.\", \"Let's start by concentrating on how you're feeling and how we can get you back to feeling better. When you're ready, please select 'continue' to move on to the next steps.\"], [\"I think it would be a good idea if we take a moment to really focus on our feelings. Afterwards, let's do a simple exercise together.\", \"I'd like to take a brief break before we go any further and ensure that you stay mindful of your feelings. Let's do a quick activity.\", \"I want to take a brief break first and ensure that you are aware of those feelings. Let's do a straightforward activity.\", \"I think it would be a good idea to take a moment to really consider any feelings that are coming up. Let's do a quick exercise.\", \"I want to take a momentary break and ensure you are aware of your feelings. Let's do a basic exercise now.\"], [\"Could you rephrase what you just said? I didn't quite understand.\", \"Could you please rephrase what you just said? I didn't quite understand it.\", \"Could you rephrase what you said? I didn't quite understand it.\", \"Could you rephrase what you said? I didn't quite understand.\", \"I'm sorry, I didn't understand that. Can you please rephrase what you said?\"], ['Could you rephrase what you just said for me?', 'Could you rephrase what you said so I can understand it better?', 'Could you rephrase what you just said so I can understand it better?', 'Could you rephrase what you said so I can understand it better?', 'Could you rephrase what you just said for me?'], ['My apologies for that. Could you please repeat what you just said in different words?', 'Pardon me for that! Let me try again, could you restate it in different words?', 'My apologies for that! Could you please restate what I said in different words?', 'My apologies for that. May I try again? Could you restate it in different words?', 'My apologies for that. May I attempt again? Would you mind restating what I said?'], [\"Fostering your inherent inquisitiveness can assist you in sustaining your zeal for uncovering novel things, remain open to novel concepts, and continue striving for what you're passionate about.\", 'Fostering your innate inquisitiveness can assist in sustaining your fervor for uncovering fresh concepts and continuing to chase after what you are passionate about.', \"Fostering your innate inquisitiveness can assist you with sustaining your eagerness for uncovering novel things, remain responsive to novel concepts, and remain devoted to what you're passionate about.\", 'Fostering your innate inquisitiveness can assist you in preserving your zeal for uncovering new information, remain welcoming to fresh perspectives, and keep following what you are enthusiastic about.', 'Fostering your innate inquisitiveness can help you to sustain your eagerness for uncovering fresh concepts, remain receptive to novel thoughts, and continue chasing what you are passionate about.']]\n"
          ]
        }
      ]
    },
    {
      "cell_type": "code",
      "source": [
        "data2 = pd.read_csv(\"input.csv\")\n",
        "data2['chatgpt'] = pd.Series(chatgpt)\n",
        "\n",
        "data2.to_csv(\"input.csv\", index=False)"
      ],
      "metadata": {
        "id": "f8aZS5imyERr"
      },
      "execution_count": null,
      "outputs": []
    },
    {
      "cell_type": "code",
      "source": [
        "fl_list_t5 = []\n",
        "for row in t5:\n",
        "  for i in row:\n",
        "    print(i)\n",
        "    fl_score = fluency_score(i)\n",
        "    print(fl_score)\n",
        "    fl_list_t5.append(fl_score)\n",
        "print(len(fl_list_t5))\n",
        "print(len(t5))\n",
        "\n",
        "\n"
      ],
      "metadata": {
        "id": "R7rBhM9cnWFF"
      },
      "execution_count": null,
      "outputs": []
    },
    {
      "cell_type": "code",
      "source": [
        "fl_scores_t5 = pd.DataFrame(fl_list_t5,columns=[\"fluency_score\"])\n",
        "print(fl_list_t5)\n"
      ],
      "metadata": {
        "colab": {
          "base_uri": "https://localhost:8080/"
        },
        "id": "Q8-Fsz6BmMf7",
        "outputId": "367099b9-0317-4cf5-fe40-463f7bd3d88c"
      },
      "execution_count": null,
      "outputs": [
        {
          "output_type": "stream",
          "name": "stdout",
          "text": [
            "[0.020932189834414704, 0.01848219586312982, 0.020343373204199842, 0.018365608401970736, 0.010525281864470172, 0.01859694922005123, 0.020138377187296816, 0.023461439047620346, 0.024347827379194303, 0.014631624093217896, 0.05109691659284528, 0.061374983274553804, 0.048418718183219404, 0.055904701925090075, 0.0348014186134301, 0.02858358783649181, 0.010500578416261027, 0.02350366159834295, 0.025609268354347774, 0.007040409086270149, 0.014039257909025455, 0.045327353230251506, 0.023536989744497278, 0.011032311292446648, 0.03160865574890083, 0.013568174663748454, 0.01341651507167444, 0.032477925438813574, 0.024221982106646427, 0.031959373908667245, 0.05307123257747358, 0.02679999599243224, 0.06032445010640727, 0.029950893805855725, 0.047681540046225684, 0.01425750862785294, 0.049959244596645386, 0.055425689184480535, 0.04823672916761355, 0.04268659611017937, 0.04308861104878749, 0.026646816544844777, 0.03477098013764265, 0.05006794613585598, 0.006162424686935079, 0.0375089052600522, 0.02228694437768689, 0.04124407805930308, 0.036258188275937284, 0.029907995467745415]\n"
          ]
        }
      ]
    },
    {
      "cell_type": "markdown",
      "source": [
        "Normalise T5 finetuned on ChatGPT dataset fluency scores using sklearn preprocessing method."
      ],
      "metadata": {
        "id": "MTLeHY_Ab1jD"
      }
    },
    {
      "cell_type": "code",
      "source": [
        "from sklearn import preprocessing\n",
        "import seaborn as sns"
      ],
      "metadata": {
        "id": "8zvt9d-ybjpU"
      },
      "execution_count": null,
      "outputs": []
    },
    {
      "cell_type": "code",
      "source": [
        "normalized_fl_t5 = preprocessing.normalize([fl_list_t5])"
      ],
      "metadata": {
        "id": "PxZjUT-XbmRY"
      },
      "execution_count": null,
      "outputs": []
    },
    {
      "cell_type": "code",
      "source": [
        "normalized_fl_t5"
      ],
      "metadata": {
        "colab": {
          "base_uri": "https://localhost:8080/"
        },
        "id": "auvrJORobzHP",
        "outputId": "c94e4e92-d2db-4f29-984f-6da62c1127fb"
      },
      "execution_count": null,
      "outputs": [
        {
          "output_type": "execute_result",
          "data": {
            "text/plain": [
              "array([[0.0866577 , 0.0765149 , 0.08422004, 0.07603224, 0.04357388,\n",
              "        0.07698997, 0.08337137, 0.0971286 , 0.10079818, 0.06057383,\n",
              "        0.2115374 , 0.25408782, 0.20044986, 0.23144127, 0.14407526,\n",
              "        0.11833391, 0.04347161, 0.0973034 , 0.10602045, 0.02914677,\n",
              "        0.05812147, 0.18765184, 0.09744137, 0.04567294, 0.13085746,\n",
              "        0.05617122, 0.05554337, 0.13445617, 0.10027719, 0.13230941,\n",
              "        0.21971092, 0.11094997, 0.2497387 , 0.12399445, 0.197398  ,\n",
              "        0.05902502, 0.20682752, 0.22945819, 0.19969644, 0.1767193 ,\n",
              "        0.17838362, 0.11031582, 0.14394925, 0.20727754, 0.02551198,\n",
              "        0.15528405, 0.09226628, 0.17074739, 0.15010618, 0.12381686]])"
            ]
          },
          "metadata": {},
          "execution_count": 52
        }
      ]
    },
    {
      "cell_type": "code",
      "source": [
        "sp1_t5 = sns.histplot(normalized_fl_t5[0])\n",
        "sp1_t5.set_xlabel('Fluency score')\n",
        "sp1_t5.set_xlim((0.0, 0.5))\n",
        "sp1_t5.set_ylabel('Sentence count')"
      ],
      "metadata": {
        "colab": {
          "base_uri": "https://localhost:8080/",
          "height": 467
        },
        "id": "Cai-GVt8b-Pr",
        "outputId": "13125508-7e85-4f6f-e93a-41ca18702281"
      },
      "execution_count": null,
      "outputs": [
        {
          "output_type": "execute_result",
          "data": {
            "text/plain": [
              "Text(0, 0.5, 'Sentence count')"
            ]
          },
          "metadata": {},
          "execution_count": 65
        },
        {
          "output_type": "display_data",
          "data": {
            "text/plain": [
              "<Figure size 640x480 with 1 Axes>"
            ],
            "image/png": "[encoded data removed]"
          },
          "metadata": {}
        }
      ]
    },
    {
      "cell_type": "code",
      "source": [
        "sp1_t5.figure.savefig(\"t5-chatgpt-norm-fluency-score-range.png\")"
      ],
      "metadata": {
        "id": "mdQhZInfcPQ0"
      },
      "execution_count": null,
      "outputs": []
    },
    {
      "cell_type": "code",
      "source": [
        "print(36/50)"
      ],
      "metadata": {
        "colab": {
          "base_uri": "https://localhost:8080/"
        },
        "id": "GDWscpLxCCWq",
        "outputId": "cdc5bf20-def3-4a7f-92f0-1724e61d48aa"
      },
      "execution_count": null,
      "outputs": [
        {
          "output_type": "stream",
          "name": "stdout",
          "text": [
            "0.72\n"
          ]
        }
      ]
    },
    {
      "cell_type": "code",
      "source": [
        "print(48/50)"
      ],
      "metadata": {
        "colab": {
          "base_uri": "https://localhost:8080/"
        },
        "id": "mvns-CJbCaVd",
        "outputId": "07f063db-4f35-4018-b69c-3ec9a614d195"
      },
      "execution_count": null,
      "outputs": [
        {
          "output_type": "stream",
          "name": "stdout",
          "text": [
            "0.96\n"
          ]
        }
      ]
    },
    {
      "cell_type": "markdown",
      "source": [
        "Generate fluency scores for BART-generated utterances"
      ],
      "metadata": {
        "id": "-kme-n_Fca7z"
      }
    },
    {
      "cell_type": "code",
      "source": [
        "fl_list_bart = []\n",
        "for row in bart:\n",
        "  for i in row:\n",
        "    print(i)\n",
        "    fl_score = fluency_score(i[0])\n",
        "    print(fl_score)\n",
        "    fl_list_bart.append(fl_score)\n",
        "print(len(fl_list_bart))\n",
        "print(len(bart))\n"
      ],
      "metadata": {
        "colab": {
          "base_uri": "https://localhost:8080/"
        },
        "id": "V_ag0_SWzlBb",
        "outputId": "66d7c8bf-bea5-46d2-e611-fe7eec136807"
      },
      "execution_count": null,
      "outputs": [
        {
          "output_type": "stream",
          "name": "stdout",
          "text": [
            "[\"It can be difficult being creative and humorous at the same time. But don't worry,\"]\n",
            "0.05254566155129007\n",
            "[\"It can be difficult being creative and humorous at the same time. But don't worry,\"]\n",
            "0.05254566155129007\n",
            "[\"It can be difficult being creative and humorous at the same time. But don't worry,\"]\n",
            "0.05254566155129007\n",
            "[\"It can be difficult being creative and humorous at the same time. But don't worry,\"]\n",
            "0.05254566155129007\n",
            "[\"It can be difficult being creative and humorous at the same time. But don't worry,\"]\n",
            "0.05254566155129007\n",
            "[\"Let's get creative! Here's an exercise to help you express your creativity: Pick one\"]\n",
            "0.04244724622846399\n",
            "[\"Let's get creative! Here's an exercise to help you express your creativity: Pick one\"]\n",
            "0.04244724622846399\n",
            "[\"Let's get creative! Here's an exercise to help you express your creativity: Pick one\"]\n",
            "0.04244724622846399\n",
            "[\"Let's get creative! Here's an exercise to help you express your creativity: Pick one\"]\n",
            "0.04244724622846399\n",
            "[\"Let's get creative! Here's an exercise to help you express your creativity: Pick one\"]\n",
            "0.04244724622846399\n",
            "['I invite you to go through this exercise to try and overcome these negative emotions. It will']\n",
            "0.032193481171294794\n",
            "['I invite you to go through this exercise to try and overcome these negative emotions. It will']\n",
            "0.032193481171294794\n",
            "['I invite you to go through this exercise to try and overcome these negative emotions. It will']\n",
            "0.032193481171294794\n",
            "['I invite you to go through this exercise to try and overcome these negative emotions. It will']\n",
            "0.032193481171294794\n",
            "['I invite you to go through this exercise to try and overcome these negative emotions. It will']\n",
            "0.032193481171294794\n",
            "[\"I would like to try and help you feel better. Let's start with this exercise.\"]\n",
            "0.046341320698648304\n",
            "[\"I would like to try and help you feel better. Let's start with this exercise.\"]\n",
            "0.046341320698648304\n",
            "[\"I would like to try and help you feel better. Let's start with this exercise.\"]\n",
            "0.046341320698648304\n",
            "[\"I would like to try and help you feel better. Let's start with this exercise.\"]\n",
            "0.046341320698648304\n",
            "[\"I would like to try and help you feel better. Let's start with this exercise.\"]\n",
            "0.046341320698648304\n",
            "['Now how about we focus on your emotions first and how to make you feel better? When']\n",
            "0.029420188491039178\n",
            "['Now how about we focus on your emotions first and how to make you feel better? When']\n",
            "0.029420188491039178\n",
            "['Now how about we focus on your emotions first and how to make you feel better? When']\n",
            "0.029420188491039178\n",
            "['Now how about we focus on your emotions first and how to make you feel better? When']\n",
            "0.029420188491039178\n",
            "['Now how about we focus on your emotions first and how to make you feel better? When']\n",
            "0.029420188491039178\n",
            "['I would like to take a short pause first and make sure you pay attention to those emotions']\n",
            "0.030289151024713\n",
            "['I would like to take a short pause first and make sure you pay attention to those emotions']\n",
            "0.030289151024713\n",
            "['I would like to take a short pause first and make sure you pay attention to those emotions']\n",
            "0.030289151024713\n",
            "['I would like to take a short pause first and make sure you pay attention to those emotions']\n",
            "0.030289151024713\n",
            "['I would like to take a short pause first and make sure you pay attention to those emotions']\n",
            "0.030289151024713\n",
            "[\"Oops, I didn't get that. Do you think you could say that again in\"]\n",
            "0.03971140215967409\n",
            "[\"Oops, I didn't get that. Do you think you could say that again in\"]\n",
            "0.03971140215967409\n",
            "[\"Oops, I didn't get that. Do you think you could say that again in\"]\n",
            "0.03971140215967409\n",
            "[\"Oops, I didn't get that. Do you think you could say that again in\"]\n",
            "0.03971140215967409\n",
            "[\"Oops, I didn't get that. Do you think you could say that again in\"]\n",
            "0.03971140215967409\n",
            "[\"I'm not sure I got that. Could you please say it in a different way?\"]\n",
            "0.050497818950917754\n",
            "[\"I'm not sure I got that. Could you please say it in a different way?\"]\n",
            "0.050497818950917754\n",
            "[\"I'm not sure I got that. Could you please say it in a different way?\"]\n",
            "0.050497818950917754\n",
            "[\"I'm not sure I got that. Could you please say it in a different way?\"]\n",
            "0.050497818950917754\n",
            "[\"I'm not sure I got that. Could you please say it in a different way?\"]\n",
            "0.050497818950917754\n",
            "['Oops, sorry about that! Let me try again, could you please rephrase?']\n",
            "0.03435443858956043\n",
            "['Oops, sorry about that! Let me try again, could you please rephrase?']\n",
            "0.03435443858956043\n",
            "['Oops, sorry about that! Let me try again, could you please rephrase?']\n",
            "0.03435443858956043\n",
            "['Oops, sorry about that! Let me try again, could you please rephrase?']\n",
            "0.03435443858956043\n",
            "['Oops, sorry about that! Let me try again, could you please rephrase?']\n",
            "0.03435443858956043\n",
            "['Nurturing your natural curiosity can help you maintain your enthusiasm for discovering new things, stay']\n",
            "0.019198736333174947\n",
            "['Nurturing your natural curiosity can help you maintain your enthusiasm for discovering new things, stay']\n",
            "0.019198736333174947\n",
            "['Nurturing your natural curiosity can help you maintain your enthusiasm for discovering new things, stay']\n",
            "0.019198736333174947\n",
            "['Nurturing your natural curiosity can help you maintain your enthusiasm for discovering new things, stay']\n",
            "0.019198736333174947\n",
            "['Nurturing your natural curiosity can help you maintain your enthusiasm for discovering new things, stay']\n",
            "0.019198736333174947\n",
            "50\n",
            "10\n"
          ]
        }
      ]
    },
    {
      "cell_type": "markdown",
      "source": [
        "Generate normalised scores for BART-generated utterances using sklearn"
      ],
      "metadata": {
        "id": "TujI-fBXc8aa"
      }
    },
    {
      "cell_type": "code",
      "source": [
        "normalized_fl_bart = preprocessing.normalize([fl_list_bart])"
      ],
      "metadata": {
        "id": "bNIPz5sRcx0C"
      },
      "execution_count": null,
      "outputs": []
    },
    {
      "cell_type": "code",
      "source": [
        "fl_list_bart"
      ],
      "metadata": {
        "colab": {
          "base_uri": "https://localhost:8080/"
        },
        "id": "X206PoB2ddw5",
        "outputId": "dee45c9b-36f2-4db3-a1d3-30fc1ad39248"
      },
      "execution_count": null,
      "outputs": [
        {
          "output_type": "execute_result",
          "data": {
            "text/plain": [
              "[0.05254566155129007,\n",
              " 0.05254566155129007,\n",
              " 0.05254566155129007,\n",
              " 0.05254566155129007,\n",
              " 0.05254566155129007,\n",
              " 0.04244724622846399,\n",
              " 0.04244724622846399,\n",
              " 0.04244724622846399,\n",
              " 0.04244724622846399,\n",
              " 0.04244724622846399,\n",
              " 0.032193481171294794,\n",
              " 0.032193481171294794,\n",
              " 0.032193481171294794,\n",
              " 0.032193481171294794,\n",
              " 0.032193481171294794,\n",
              " 0.046341320698648304,\n",
              " 0.046341320698648304,\n",
              " 0.046341320698648304,\n",
              " 0.046341320698648304,\n",
              " 0.046341320698648304,\n",
              " 0.029420188491039178,\n",
              " 0.029420188491039178,\n",
              " 0.029420188491039178,\n",
              " 0.029420188491039178,\n",
              " 0.029420188491039178,\n",
              " 0.030289151024713,\n",
              " 0.030289151024713,\n",
              " 0.030289151024713,\n",
              " 0.030289151024713,\n",
              " 0.030289151024713,\n",
              " 0.03971140215967409,\n",
              " 0.03971140215967409,\n",
              " 0.03971140215967409,\n",
              " 0.03971140215967409,\n",
              " 0.03971140215967409,\n",
              " 0.050497818950917754,\n",
              " 0.050497818950917754,\n",
              " 0.050497818950917754,\n",
              " 0.050497818950917754,\n",
              " 0.050497818950917754,\n",
              " 0.03435443858956043,\n",
              " 0.03435443858956043,\n",
              " 0.03435443858956043,\n",
              " 0.03435443858956043,\n",
              " 0.03435443858956043,\n",
              " 0.019198736333174947,\n",
              " 0.019198736333174947,\n",
              " 0.019198736333174947,\n",
              " 0.019198736333174947,\n",
              " 0.019198736333174947]"
            ]
          },
          "metadata": {},
          "execution_count": 57
        }
      ]
    },
    {
      "cell_type": "code",
      "source": [
        "normalized_fl_bart"
      ],
      "metadata": {
        "colab": {
          "base_uri": "https://localhost:8080/"
        },
        "id": "sQN4px4ddXpN",
        "outputId": "632592f6-7e5a-4318-cf5b-db0bfd635ce1"
      },
      "execution_count": null,
      "outputs": [
        {
          "output_type": "execute_result",
          "data": {
            "text/plain": [
              "array([[0.19056819, 0.19056819, 0.19056819, 0.19056819, 0.19056819,\n",
              "        0.1539441 , 0.1539441 , 0.1539441 , 0.1539441 , 0.1539441 ,\n",
              "        0.11675661, 0.11675661, 0.11675661, 0.11675661, 0.11675661,\n",
              "        0.1680668 , 0.1680668 , 0.1680668 , 0.1680668 , 0.1680668 ,\n",
              "        0.10669866, 0.10669866, 0.10669866, 0.10669866, 0.10669866,\n",
              "        0.10985015, 0.10985015, 0.10985015, 0.10985015, 0.10985015,\n",
              "        0.14402197, 0.14402197, 0.14402197, 0.14402197, 0.14402197,\n",
              "        0.18314124, 0.18314124, 0.18314124, 0.18314124, 0.18314124,\n",
              "        0.12459379, 0.12459379, 0.12459379, 0.12459379, 0.12459379,\n",
              "        0.06962836, 0.06962836, 0.06962836, 0.06962836, 0.06962836]])"
            ]
          },
          "metadata": {},
          "execution_count": 58
        }
      ]
    },
    {
      "cell_type": "code",
      "source": [
        "sp1_bart = sns.histplot(normalized_fl_bart[0])\n",
        "sp1_bart.set_xlabel('Fluency score')\n",
        "sp1_bart.set_xlim((0.0, 0.5))\n",
        "\n",
        "sp1_bart.set_ylabel('Sentence count')"
      ],
      "metadata": {
        "colab": {
          "base_uri": "https://localhost:8080/",
          "height": 467
        },
        "id": "YzmhHPqJc0nU",
        "outputId": "bdc73d50-b9ed-4f0b-95f1-94fa12babaa3"
      },
      "execution_count": null,
      "outputs": [
        {
          "output_type": "execute_result",
          "data": {
            "text/plain": [
              "Text(0, 0.5, 'Sentence count')"
            ]
          },
          "metadata": {},
          "execution_count": 67
        },
        {
          "output_type": "display_data",
          "data": {
            "text/plain": [
              "<Figure size 640x480 with 1 Axes>"
            ],
            "image/png": "[encoded data removed]"
          },
          "metadata": {}
        }
      ]
    },
    {
      "cell_type": "code",
      "source": [
        "sp1_bart.figure.savefig(\"bart-norm-fluency-score-range.png\")"
      ],
      "metadata": {
        "id": "3fo0MkpmdwB_"
      },
      "execution_count": null,
      "outputs": []
    },
    {
      "cell_type": "code",
      "source": [
        "fl_list_chatgpt = []\n",
        "for row in chatgpt:\n",
        "  for i in row:\n",
        "    print(i)\n",
        "    fl_score = fluency_score(i)\n",
        "    print(fl_score)\n",
        "    fl_list_chatgpt.append(fl_score)\n",
        "print(len(fl_list_chatgpt))\n",
        "print(len(chatgpt))\n"
      ],
      "metadata": {
        "colab": {
          "base_uri": "https://localhost:8080/"
        },
        "id": "2OxFTAXdz37x",
        "outputId": "f59349be-ddaf-4b12-bdd8-3098004e4f83"
      },
      "execution_count": null,
      "outputs": [
        {
          "output_type": "stream",
          "name": "stdout",
          "text": [
            "It can be a challenge to be both creative and humorous, but don't worry - you can definitely do it! I'm here to help you out. The Self-Initiated Humour Protocol, based on humour theory and self-attachment methods, provides the groundwork for these activities. This will assist you in developing a light-hearted and imaginative attitude, which is vital for coming up with creative ideas. If you keep your atmosphere relaxed, you can look into diverse musings and become more inventive.\n",
            "0.031123311832052452\n",
            "It can be hard to be both funny and inventive simultaneously. Don't stress, though, it is absolutely doable! I'm here to assist you with it. The Self-Initiated Humour Protocol, which is based on comedy theory and self-affiliation methods, will serve as the basis for these activities. This will help you cultivate an amusing and fanciful frame of mind which is indispensable in forming imaginative ideas. With a tranquil setting, you can experiment with various pondering and be imaginative!\n",
            "0.020266706634118503\n",
            "It can be a challenge to be both funny and inventive simultaneously, but don't be discouraged - it is achievable! Let me assist you with it. Utilizing Self-Initiated Humour Protocol, which is based upon humour theory and self-attachment method, will provide you with activities that will help you acquire a lighthearted and fanciful attitude that is indispensable for fostering imaginative ideas. With a relaxed atmosphere, you can delve into various musings and be imaginative.\n",
            "0.017908121557488523\n",
            "It may seem like a challenge to be both creative and funny, but there's no need to fear - it's absolutely possible! I'm here to guide you through it. By following the Self-Initiated Humour Protocol, which is based on humour theory and self-attachment technique, you can learn how to cultivate a more light-hearted, imaginative spirit, which is crucial to cultivating creative ideas. With a relaxed atmosphere, you can experiment and come up with new, inventive thoughts.\n",
            "0.03308904006868173\n",
            "It may be hard to be funny and inventive simultaneously. Don't fret, though, it is definitely doable! I'm here to assist you in this process. Self-Initiated Humour Protocol, based on humor theory and self-attachment technique, serves as the basis for these drills. This will help you cultivate a lighthearted and fanciful attitude which is necessary for formulating imaginative ideas. With a comfortable atmosphere, you can look into various ideas and be imaginative!\n",
            "0.01992048756398473\n",
            "Fantastic! Let's think outside the box! Here is an activity to help you explore your imagination: Choose one and let's start! I'm here to help you along the way!\n",
            "0.03705048032519821\n",
            "Wow! Let's get imaginative! Here's a task to assist you in displaying your inventiveness: Choose one and let's get started! I'll be here with you the whole time!\n",
            "0.027279524046897007\n",
            "Fantastic! Let's think outside the box! I have an activity to help you showcase your imagination: Choose one and let's get started! I'm here with you every step of the journey!\n",
            "0.028799994998169785\n",
            "Wonderful! Let's explore our imagination! Here is an activity to help you unlock your artistic potential: Choose one and let's start! I am here to support you throughout the entire process!\n",
            "0.02011593951206121\n",
            "Fantastic! Let's get imaginative! Here's an activity to help you show off your creative side: Choose one and let's go! I'm here with you during the entire process!\n",
            "0.02968935979113665\n",
            "I suggest you engage in this activity to fight off these bad feelings. Doing so will make you feel more positive.\n",
            "0.03585577022168378\n",
            "I encourage you to take on this task in an effort to manage these negative thoughts. Doing so should leave you feeling more positive.\n",
            "0.0315495390550772\n",
            "I urge you to attempt this activity to battle these unfavorable emotions. It will aid in improving your mood.\n",
            "0.016051404859189555\n",
            "I urge you to complete this activity in order to confront and conquer those unpleasant feelings. It should assist you in feeling more content.\n",
            "0.017811375175649808\n",
            "I urge you to complete this activity in order to combat these negative feelings. Doing so will give you a sense of relief.\n",
            "0.04621179749056176\n",
            "I want to assist you in improving your outlook. Let's get started with this activity. When you feel ready, click 'continue'.\n",
            "0.03273463726688056\n",
            "I'd like to aid in improving your wellbeing. Shall we begin with this exercise? Once you're ready, press 'continue'.\n",
            "0.016528158599303122\n",
            "I would like to assist you in feeling better. We can start with this activity. Once you're ready, click 'continue'.\n",
            "0.032566452332722595\n",
            "I want to do what I can to make you feel better. Let's begin with this exercise. When you're ready, press 'continue.'\n",
            "0.04790395088266169\n",
            "I want to assist you in feeling better. Let's begin with this exercise. Once you are ready, click 'continue'.\n",
            "0.03278492726775994\n",
            "Let's start by concentrating on your feelings and how to improve your mood. When you're ready, please proceed to the next step by pressing the 'continue' button.\n",
            "0.05435035123280054\n",
            "Let's start by concentrating on your emotional state and how to make you feel better. Once you're ready, move on to the next steps by hitting 'continue'.\n",
            "0.04625683799439947\n",
            "Let's start by concentrating on your feelings and how to make you feel better. When you're ready, please click 'Continue' to move on to the next steps.\n",
            "0.058930169409766336\n",
            "Let's start by concentrating on how we can make you feel better emotionally. When you're ready, press 'continue' to move on to the next steps.\n",
            "0.056826956385640476\n",
            "Let's start by concentrating on how you're feeling and how we can get you back to feeling better. When you're ready, please select 'continue' to move on to the next steps.\n",
            "0.061908006243909505\n",
            "I think it would be a good idea if we take a moment to really focus on our feelings. Afterwards, let's do a simple exercise together.\n",
            "0.04815576998411457\n",
            "I'd like to take a brief break before we go any further and ensure that you stay mindful of your feelings. Let's do a quick activity.\n",
            "0.03867392678134465\n",
            "I want to take a brief break first and ensure that you are aware of those feelings. Let's do a straightforward activity.\n",
            "0.020743138050068742\n",
            "I think it would be a good idea to take a moment to really consider any feelings that are coming up. Let's do a quick exercise.\n",
            "0.05160318515967482\n",
            "I want to take a momentary break and ensure you are aware of your feelings. Let's do a basic exercise now.\n",
            "0.0320629144676037\n",
            "Could you rephrase what you just said? I didn't quite understand.\n",
            "0.0587653896997819\n",
            "Could you please rephrase what you just said? I didn't quite understand it.\n",
            "0.06596872598111853\n",
            "Could you rephrase what you said? I didn't quite understand it.\n",
            "0.06293862899049854\n",
            "Could you rephrase what you said? I didn't quite understand.\n",
            "0.054802332878849266\n",
            "I'm sorry, I didn't understand that. Can you please rephrase what you said?\n",
            "0.07958172720435273\n",
            "Could you rephrase what you just said for me?\n",
            "0.05704511922844248\n",
            "Could you rephrase what you said so I can understand it better?\n",
            "0.0710267446944632\n",
            "Could you rephrase what you just said so I can understand it better?\n",
            "0.07889789027961161\n",
            "Could you rephrase what you said so I can understand it better?\n",
            "0.0710267446944632\n",
            "Could you rephrase what you just said for me?\n",
            "0.05704511922844248\n",
            "My apologies for that. Could you please repeat what you just said in different words?\n",
            "0.03307430736191129\n",
            "Pardon me for that! Let me try again, could you restate it in different words?\n",
            "0.021762120425356874\n",
            "My apologies for that! Could you please restate what I said in different words?\n",
            "0.029067097244333977\n",
            "My apologies for that. May I try again? Could you restate it in different words?\n",
            "0.02518717627756625\n",
            "My apologies for that. May I attempt again? Would you mind restating what I said?\n",
            "0.027891024300165573\n",
            "Fostering your inherent inquisitiveness can assist you in sustaining your zeal for uncovering novel things, remain open to novel concepts, and continue striving for what you're passionate about.\n",
            "0.01518083745018484\n",
            "Fostering your innate inquisitiveness can assist in sustaining your fervor for uncovering fresh concepts and continuing to chase after what you are passionate about.\n",
            "0.013277088311194724\n",
            "Fostering your innate inquisitiveness can assist you with sustaining your eagerness for uncovering novel things, remain responsive to novel concepts, and remain devoted to what you're passionate about.\n",
            "0.014110248614204212\n",
            "Fostering your innate inquisitiveness can assist you in preserving your zeal for uncovering new information, remain welcoming to fresh perspectives, and keep following what you are enthusiastic about.\n",
            "0.013297071543990955\n",
            "Fostering your innate inquisitiveness can help you to sustain your eagerness for uncovering fresh concepts, remain receptive to novel thoughts, and continue chasing what you are passionate about.\n",
            "0.01562182483537861\n",
            "50\n",
            "10\n"
          ]
        }
      ]
    },
    {
      "cell_type": "code",
      "source": [
        "normalized_fl_chatgpt = preprocessing.normalize([fl_list_chatgpt])"
      ],
      "metadata": {
        "id": "cp13hDt0eH4Q"
      },
      "execution_count": null,
      "outputs": []
    },
    {
      "cell_type": "code",
      "source": [
        "sp1_chatgpt = sns.histplot(normalized_fl_chatgpt[0])\n",
        "sp1_chatgpt.set_xlabel('Fluency score')\n",
        "sp1_chatgpt.set_xlim((0.0, 0.5))\n",
        "\n",
        "sp1_chatgpt.set_ylabel('Sentence count')"
      ],
      "metadata": {
        "colab": {
          "base_uri": "https://localhost:8080/",
          "height": 467
        },
        "id": "94ACNTEV0yuS",
        "outputId": "3094a379-ebed-4cab-db23-88c96ae712d7"
      },
      "execution_count": null,
      "outputs": [
        {
          "output_type": "execute_result",
          "data": {
            "text/plain": [
              "Text(0, 0.5, 'Sentence count')"
            ]
          },
          "metadata": {},
          "execution_count": 68
        },
        {
          "output_type": "display_data",
          "data": {
            "text/plain": [
              "<Figure size 640x480 with 1 Axes>"
            ],
            "image/png": "[encoded data removed]"
          },
          "metadata": {}
        }
      ]
    },
    {
      "cell_type": "code",
      "source": [
        "sp1_chatgpt.figure.savefig(\"chatgpt-norm-fluency-score-range.png\")\n"
      ],
      "metadata": {
        "id": "iajQiqxd06k1"
      },
      "execution_count": null,
      "outputs": []
    },
    {
      "cell_type": "code",
      "source": [],
      "metadata": {
        "id": "MsTpGXZw2_66"
      },
      "execution_count": null,
      "outputs": []
    }
  ],
  "metadata": {
    "accelerator": "GPU",
    "colab": {
      "provenance": [],
      "gpuType": "T4"
    },
    "kernelspec": {
      "display_name": "Python 3",
      "name": "python3"
    },
    "language_info": {
      "name": "python"
    }
  },
  "nbformat": 4,
  "nbformat_minor": 0
}