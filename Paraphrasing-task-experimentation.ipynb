{
  "cells": [
    {
      "attachments": {},
      "cell_type": "markdown",
      "metadata": {
        "id": "FWOhvtnodopf"
      },
      "source": [
        "#ChatGPT on T5 base"
      ]
    },
    {
      "cell_type": "code",
      "execution_count": 1,
      "metadata": {
        "colab": {
          "base_uri": "https://localhost:8080/"
        },
        "id": "LgbDXjksIm2r",
        "outputId": "b1e5858e-79f3-442c-de24-97619594b5a7"
      },
      "outputs": [
        {
          "name": "stdout",
          "output_type": "stream",
          "text": [
            "Requirement already satisfied: transformers in /usr/local/lib/python3.10/dist-packages (4.30.2)\n",
            "Requirement already satisfied: filelock in /usr/local/lib/python3.10/dist-packages (from transformers) (3.12.2)\n",
            "Requirement already satisfied: huggingface-hub<1.0,>=0.14.1 in /usr/local/lib/python3.10/dist-packages (from transformers) (0.15.1)\n",
            "Requirement already satisfied: numpy>=1.17 in /usr/local/lib/python3.10/dist-packages (from transformers) (1.22.4)\n",
            "Requirement already satisfied: packaging>=20.0 in /usr/local/lib/python3.10/dist-packages (from transformers) (23.1)\n",
            "Requirement already satisfied: pyyaml>=5.1 in /usr/local/lib/python3.10/dist-packages (from transformers) (6.0)\n",
            "Requirement already satisfied: regex!=2019.12.17 in /usr/local/lib/python3.10/dist-packages (from transformers) (2022.10.31)\n",
            "Requirement already satisfied: requests in /usr/local/lib/python3.10/dist-packages (from transformers) (2.27.1)\n",
            "Requirement already satisfied: tokenizers!=0.11.3,<0.14,>=0.11.1 in /usr/local/lib/python3.10/dist-packages (from transformers) (0.13.3)\n",
            "Requirement already satisfied: safetensors>=0.3.1 in /usr/local/lib/python3.10/dist-packages (from transformers) (0.3.1)\n",
            "Requirement already satisfied: tqdm>=4.27 in /usr/local/lib/python3.10/dist-packages (from transformers) (4.65.0)\n",
            "Requirement already satisfied: fsspec in /usr/local/lib/python3.10/dist-packages (from huggingface-hub<1.0,>=0.14.1->transformers) (2023.6.0)\n",
            "Requirement already satisfied: typing-extensions>=3.7.4.3 in /usr/local/lib/python3.10/dist-packages (from huggingface-hub<1.0,>=0.14.1->transformers) (4.6.3)\n",
            "Requirement already satisfied: urllib3<1.27,>=1.21.1 in /usr/local/lib/python3.10/dist-packages (from requests->transformers) (1.26.16)\n",
            "Requirement already satisfied: certifi>=2017.4.17 in /usr/local/lib/python3.10/dist-packages (from requests->transformers) (2023.5.7)\n",
            "Requirement already satisfied: charset-normalizer~=2.0.0 in /usr/local/lib/python3.10/dist-packages (from requests->transformers) (2.0.12)\n",
            "Requirement already satisfied: idna<4,>=2.5 in /usr/local/lib/python3.10/dist-packages (from requests->transformers) (3.4)\n",
            "Requirement already satisfied: sentencepiece in /usr/local/lib/python3.10/dist-packages (0.1.99)\n"
          ]
        }
      ],
      "source": [
        "!pip install transformers\n",
        "!pip install sentencepiece\n",
        "\n",
        "from transformers import AutoTokenizer, AutoModelForSeq2SeqLM"
      ]
    },
    {
      "cell_type": "code",
      "execution_count": 2,
      "metadata": {
        "id": "9Sqxy1ndIQfN"
      },
      "outputs": [],
      "source": [
        "\n",
        "device = \"cuda\"\n",
        "\n",
        "tokenizer = AutoTokenizer.from_pretrained(\"humarin/chatgpt_paraphraser_on_T5_base\")\n",
        "model = AutoModelForSeq2SeqLM.from_pretrained(\"humarin/chatgpt_paraphraser_on_T5_base\").to(device)\n",
        "\n",
        "def paraphrase(\n",
        "    question,\n",
        "    num_beams=5,\n",
        "    num_beam_groups=5,\n",
        "    num_return_sequences=5,\n",
        "    repetition_penalty=10.0,\n",
        "    diversity_penalty=3.0,\n",
        "    no_repeat_ngram_size=2,\n",
        "    temperature=0.7,\n",
        "    max_length=250\n",
        "):\n",
        "    input_ids = tokenizer(\n",
        "        f'paraphrase: {question}',\n",
        "        return_tensors=\"pt\", padding=\"longest\",\n",
        "        max_length=max_length,\n",
        "        truncation=True,\n",
        "    ).input_ids\n",
        "    input_ids = input_ids.to(device)\n",
        "\n",
        "    outputs = model.generate(\n",
        "        input_ids, temperature=temperature, repetition_penalty=repetition_penalty,\n",
        "        num_return_sequences=num_return_sequences, no_repeat_ngram_size=no_repeat_ngram_size,\n",
        "        num_beams=num_beams, num_beam_groups=num_beam_groups,\n",
        "        max_length=max_length, diversity_penalty=diversity_penalty\n",
        "    )\n",
        "\n",
        "    res = tokenizer.batch_decode(outputs, skip_special_tokens=True)\n",
        "\n",
        "    return res\n"
      ]
    },
    {
      "cell_type": "code",
      "execution_count": 3,
      "metadata": {
        "id": "x1NzijqTIwuz"
      },
      "outputs": [],
      "source": [
        "text = 'Curiosity can help you fuel your natural enthusiasm to explore and discover, stay open, and follow your passion. Staying curious is important for becoming and staying creative. Good news - it can be practiced!'"
      ]
    },
    {
      "cell_type": "code",
      "execution_count": 4,
      "metadata": {
        "colab": {
          "base_uri": "https://localhost:8080/"
        },
        "id": "f4e29olNcRIb",
        "outputId": "0adb405d-3bcd-4e06-81be-2474d1efa1d0"
      },
      "outputs": [
        {
          "data": {
            "text/plain": [
              "[\"Being curious can help you tap into your natural talent of discovering and exploring, remain open, and pursue your passion. Staying curious is key to becoming and staying creative. Don't worry - there's hope!\",\n",
              " \"Being curious can help you tap into your natural talent of discovering and exploring, remain open, and pursue your passion. Staying curious is key to becoming and staying creative. Don't worry - there's hope! Thank you!\",\n",
              " 'To keep yourself open to discovering and exploring, cultivate curiosity. Being curious is crucial for developing and maintaining creativity; however, one must not be ignorant of the fact that it can be done!',\n",
              " 'To keep yourself open to discovering and exploring, cultivate curiosity. Being curious is crucial for developing and maintaining creativity; however, one must not be ignorant of the fact that it can be done!!',\n",
              " \"Keeping open to new things can encourage curiosity and exploring your natural instincts. It's essential to remain curious about the world while striving for creativity. There're good reasons to stay that way!\"]"
            ]
          },
          "execution_count": 4,
          "metadata": {},
          "output_type": "execute_result"
        }
      ],
      "source": [
        "paraphrase(text)"
      ]
    },
    {
      "attachments": {},
      "cell_type": "markdown",
      "metadata": {
        "id": "KveZ2wDFdl4p"
      },
      "source": [
        "#Pegasus"
      ]
    },
    {
      "cell_type": "code",
      "execution_count": 15,
      "metadata": {
        "id": "-1jE_3dqepRl"
      },
      "outputs": [],
      "source": [
        "import torch\n",
        "from transformers import PegasusForConditionalGeneration, PegasusTokenizer\n",
        "model_name = 'tuner007/pegasus_paraphrase'\n",
        "torch_device = 'cuda' if torch.cuda.is_available() else 'cpu'\n",
        "tokenizer = PegasusTokenizer.from_pretrained(model_name)\n",
        "model = PegasusForConditionalGeneration.from_pretrained(model_name).to(torch_device)\n",
        "\n",
        "def get_response(input_text,num_return_sequences,num_beams):\n",
        "  batch = tokenizer([input_text],truncation=False,padding='longest',max_length=200, return_tensors=\"pt\").to(torch_device)\n",
        "  translated = model.generate(**batch,max_length=200,num_beams=num_beams, num_return_sequences=num_return_sequences, temperature=1.5)\n",
        "  tgt_text = tokenizer.batch_decode(translated, skip_special_tokens=True)\n",
        "  return tgt_text"
      ]
    },
    {
      "cell_type": "code",
      "execution_count": 16,
      "metadata": {
        "colab": {
          "base_uri": "https://localhost:8080/"
        },
        "id": "S1brjhN6eujE",
        "outputId": "041276f6-6474-46e4-8602-b261f4f8f988"
      },
      "outputs": [
        {
          "data": {
            "text/plain": [
              "['Staying curious can help fuel your enthusiasm to explore and discover.',\n",
              " 'Staying curious can help you fuel your enthusiasm to explore and discover.',\n",
              " 'Staying curious can help you discover, stay open, and follow your passion.',\n",
              " 'Staying curious can fuel your enthusiasm to explore and discover.',\n",
              " 'Staying curious can help fuel your enthusiasm to explore, stay open, and follow your passion.',\n",
              " 'Staying curious can help you fuel your enthusiasm to explore and discover, stay open, and follow your passion.',\n",
              " \"It's important to stay open and curious in order to become and stay creative.\",\n",
              " 'Staying curious can help you fuel your enthusiasm to explore and discover, stay open and follow your passion.',\n",
              " 'Staying curious can help fuel your enthusiasm to explore, stay open and follow your passion.',\n",
              " \"It's important to stay open and curious in order to stay creative.\"]"
            ]
          },
          "execution_count": 16,
          "metadata": {},
          "output_type": "execute_result"
        }
      ],
      "source": [
        "num_beams = 10\n",
        "num_return_sequences = 10\n",
        "context = \"Curiosity can help you fuel your natural enthusiasm to explore and discover, stay open, and follow your passion. Staying curious is important for becoming and staying creative. Good news - it can be practiced!\"\n",
        "# text = ''\n",
        "get_response(context,num_return_sequences,num_beams)\n"
      ]
    },
    {
      "cell_type": "code",
      "execution_count": 11,
      "metadata": {
        "colab": {
          "base_uri": "https://localhost:8080/"
        },
        "id": "vzvNGFU-fp34",
        "outputId": "a88c3e2a-a13f-4b34-aadc-9c6a0810fd08"
      },
      "outputs": [
        {
          "data": {
            "text/plain": [
              "['Good news - it can be practiced!',\n",
              " 'Good news - it can be practiced.',\n",
              " 'Good news, it can be practiced.',\n",
              " 'It can be practiced to stay curious.',\n",
              " 'Good news, it can be practiced!',\n",
              " 'Staying curious can be practiced.',\n",
              " 'Good news - it is possible to practice.',\n",
              " \"It's important to stay curious for becoming and staying creative.\",\n",
              " 'Good news - you can practice being curious.',\n",
              " 'Good news - it can be done.']"
            ]
          },
          "execution_count": 11,
          "metadata": {},
          "output_type": "execute_result"
        }
      ],
      "source": [
        "get_response(text, num_return_sequences, num_beams)\n"
      ]
    },
    {
      "attachments": {},
      "cell_type": "markdown",
      "metadata": {
        "id": "Tfh9G-Lzgm3h"
      },
      "source": [
        "#T5 for paraphrasing"
      ]
    },
    {
      "attachments": {},
      "cell_type": "markdown",
      "metadata": {
        "id": "vJ7jsNC1shGo"
      },
      "source": [
        "#ChatGPT with a paraphrasing prompt\n"
      ]
    },
    {
      "cell_type": "code",
      "execution_count": 1,
      "metadata": {
        "colab": {
          "base_uri": "https://localhost:8080/"
        },
        "id": "Jo4Tg-nml3Vn",
        "outputId": "6ce25104-ed40-432f-cad3-07a116820947"
      },
      "outputs": [
        {
          "name": "stdout",
          "output_type": "stream",
          "text": [
            "Collecting openai\n",
            "  Downloading openai-0.27.8-py3-none-any.whl (73 kB)\n",
            "\u001b[?25l     \u001b[90m━━━━━━━━━━━━━━━━━━━━━━━━━━━━━━━━━━━━━━━━\u001b[0m \u001b[32m0.0/73.6 kB\u001b[0m \u001b[31m?\u001b[0m eta \u001b[36m-:--:--\u001b[0m\r\u001b[2K     \u001b[90m━━━━━━━━━━━━━━━━━━━━━━━━━━━━━━━━━━━━━━━━\u001b[0m \u001b[32m73.6/73.6 kB\u001b[0m \u001b[31m6.2 MB/s\u001b[0m eta \u001b[36m0:00:00\u001b[0m\n",
            "\u001b[?25hRequirement already satisfied: requests>=2.20 in /usr/local/lib/python3.10/dist-packages (from openai) (2.27.1)\n",
            "Requirement already satisfied: tqdm in /usr/local/lib/python3.10/dist-packages (from openai) (4.65.0)\n",
            "Requirement already satisfied: aiohttp in /usr/local/lib/python3.10/dist-packages (from openai) (3.8.4)\n",
            "Requirement already satisfied: urllib3<1.27,>=1.21.1 in /usr/local/lib/python3.10/dist-packages (from requests>=2.20->openai) (1.26.16)\n",
            "Requirement already satisfied: certifi>=2017.4.17 in /usr/local/lib/python3.10/dist-packages (from requests>=2.20->openai) (2023.5.7)\n",
            "Requirement already satisfied: charset-normalizer~=2.0.0 in /usr/local/lib/python3.10/dist-packages (from requests>=2.20->openai) (2.0.12)\n",
            "Requirement already satisfied: idna<4,>=2.5 in /usr/local/lib/python3.10/dist-packages (from requests>=2.20->openai) (3.4)\n",
            "Requirement already satisfied: attrs>=17.3.0 in /usr/local/lib/python3.10/dist-packages (from aiohttp->openai) (23.1.0)\n",
            "Requirement already satisfied: multidict<7.0,>=4.5 in /usr/local/lib/python3.10/dist-packages (from aiohttp->openai) (6.0.4)\n",
            "Requirement already satisfied: async-timeout<5.0,>=4.0.0a3 in /usr/local/lib/python3.10/dist-packages (from aiohttp->openai) (4.0.2)\n",
            "Requirement already satisfied: yarl<2.0,>=1.0 in /usr/local/lib/python3.10/dist-packages (from aiohttp->openai) (1.9.2)\n",
            "Requirement already satisfied: frozenlist>=1.1.1 in /usr/local/lib/python3.10/dist-packages (from aiohttp->openai) (1.3.3)\n",
            "Requirement already satisfied: aiosignal>=1.1.2 in /usr/local/lib/python3.10/dist-packages (from aiohttp->openai) (1.3.1)\n",
            "Installing collected packages: openai\n",
            "Successfully installed openai-0.27.8\n"
          ]
        }
      ],
      "source": [
        "!pip install openai"
      ]
    },
    {
      "cell_type": "code",
      "execution_count": 2,
      "metadata": {
        "colab": {
          "base_uri": "https://localhost:8080/"
        },
        "id": "LJ3510NVgFEb",
        "outputId": "0b338ffd-fd1a-41f4-ed68-2d3715b5a34e"
      },
      "outputs": [
        {
          "name": "stdout",
          "output_type": "stream",
          "text": [
            "1. Stirring up your curiosity can kindle your natural eagerness, willingness to explore different areas and fascination in exploring them.\n",
            "2. Being inquisitive is essential for inventiveness, and you can also cultivate it!\n",
            "3. Firing up your inquisitiveness can ignite your inherent enthusiasm, readiness to dive into various fields and fondness for investigating them.\n",
            "4. Keeping nosy is significant for creativity, and you can also hone it!\n",
            "5. Sparking your interest can arouse your innate fervor, openness to unfamiliar territories and zest for delving into them.\n",
            "6. Being inquiring is critical for imagination, and you can also sharpen it!\n",
            "7. Arousing your curiosity can kindle your native excitement, acceptance of various realms and relish for examining them.\n",
            "8. Staying curious is indispensable for inventiveness, and you can also exercise it!\n",
            "9. Reviving your inquisitiveness can rouse your inborn zeal, receptiveness to dissimilar domains and delight in studying them.\n",
            "10. Being inquiring is paramount for imagination, and you can also practice it!\n",
            "11. Stirring up your interest can ignite your natural ardor, preparedness to explore diverse areas and interest in investigating them.\n",
            "12. Keeping inquisitive is crucial for creativity, and you can also perfect it!\n",
            "13. Awakening your curiosity can kindle your inherent eagerness, willingness to delve into disparate fields and fascination for pursuing them.\n",
            "14. Being curious is essential for inventiveness, and you can also train it!\n",
            "15. Reviving your inquisitiveness can rouse your native enthusiasm, openness to new realms and relish for examining them.\n",
            "1. Here are some activities to help you practice being curious - choose the one you want to try.\n",
            "2. Have a look at these exercises to get you in the habit of being curious - pick the one you fancy.\n",
            "3. I've got these exercises to help you get curious - pick the one that appeals to you.\n",
            "4. I've got a few exercises to help you cultivate curiosity - pick the one you want to do.\n",
            "5. Here are some exercises to help you practice curiosity - pick the one that speaks to you.\n",
            "6. I've got some exercises here that can help you develop curiosity - take your pick.\n",
            "7. I've got a few activities to help you get curious - select the one you'd like to try.\n",
            "8. Have a look at these exercises to help you become more curious - choose the one you'd like to try.\n",
            "9. I've got some exercises here to get you curious - take your pick.\n",
            "10. Here are some exercises to help you cultivate curiosity - have a look and select the one you want to do.\n",
            "11. Have a look at these exercises to help you flex your curiosity muscle - choose the one you'd like to try.\n",
            "12. Have a look at these exercises to help you get curious - pick the one that interests you.\n",
            "13. Here are some exercises to help you explore your curiosity - take your pick.\n",
            "14. Have a look at these exercises to practice curiosity - select the one you'd like to try.\n",
            "15. I've got a few exercises to get you curious - pick the one you want to do.\n",
            "1. Great job! Exercising your curiosity can help spark your creativity.\n",
            "2. Well done! Cultivating a sense of curiosity will help boost your creativity.\n",
            "3. Bravo! Being curious encourages your creative side.\n",
            "4. Awesome! Applying your curiosity will bring out your inventive nature.\n",
            "5. Way to go! Widening your curiosity is the key to unlocking your creativity.\n",
            "6. Kudos! Inquisitiveness can open the door to creative thinking.\n",
            "7. Keep it up! Nurturing curiosity will sharpen your creative capacity.\n",
            "8. Good job! Developing your curiosity will cultivate your creative ability.\n",
            "9. Fantastic! Exploring your curiosity will increase your creative potential.\n",
            "10. Hurray! Fostering curiosity will enhance your creative inclinations.\n",
            "11. You got it! Stimulating curiosity will promote your creative instincts.\n",
            "12. You go! Appreciating curiosity will strengthen your creative intuition.\n",
            "13. Keep up the good work! Being inquisitive will bring out your creative side.\n",
            "14. Way to show curiosity! It'll surely enhance your creative abilities.\n",
            "15. You're on the right track! Cultivating curiosity will kindle your creativity.\n",
            "1. Do you fancy having a go at a different exercise to hone your curiosity?\n",
            "2. Why not take on a different exercise to cultivate your curiosity?\n",
            "3. How about attempting a different exercise to sharpen your curiosity?\n",
            "4. Care to take on a different exercise to work on your curiosity?\n",
            "5. Interested in doing a different exercise to practice your curiosity?\n",
            "6. Fancy giving a different exercise a go to increase your curiosity?\n",
            "7. Up for trying another exercise to nurture your curiosity?\n",
            "8. Interested in engaging with a different exercise to cultivate your curiosity?\n",
            "9. Feel like tackling a different exercise to develop your curiosity?\n",
            "10. Care to try a different exercise to stimulate your curiosity?\n",
            "11. In the mood for a different exercise to hone your curiosity?\n",
            "12. Want to attempt a different exercise to fuel your curiosity?\n",
            "13. Feeling like doing another exercise to promote your curiosity?\n",
            "14. Ready to try out a different exercise to sharpen your curiosity?\n",
            "15. Excited to take on a different exercise to spark your curiosity?\n",
            "1. Humor encourages a fun outlook, stimulates out-of-the-box thinking, and creates a laid-back environment where new ideas can thrive. This theory revolves around incongruity - we chuckle when something off the wall contradicts our typical beliefs, like in the punchline of a joke (Aristotle, Kant, Schopenhauer).\n",
            "\n",
            "2. Being humorous builds a carefree attitude, encourages imaginative thinking, and makes a comfortable atmosphere where creative ideas can blossom. This idea is based on the Incongruity Theory - we laugh when something unusual goes against our expectations, for example in the ending of a joke (Aristotle, Kant, Schopenhauer).\n",
            "\n",
            "3. Laughing and playing around cultivates an enjoyable mentality, provokes original thought, and establishes a calm setting where pioneering notions can grow. This idea is derived from the Incongruity Theory - we giggle when something unexpected clashes with our ordinary assumptions, like in the punchline of a joke (Aristotle, Kant, Schopenhauer).\n",
            "\n",
            "4. Having a sense of humor encourages a merry attitude, promotes unorthodox pondering, and sets up a tranquil atmosphere where inspiring ideas can take root. This concept is based on the Incongruity Theory - we snicker when something offbeat contradicts our usual beliefs, such as in the punchline of a joke (Aristotle, Kant, Schopenhauer).\n",
            "\n",
            "5. Humor stimulates a cheerful demeanor, encourages out-of-the-ordinary thinking, and creates a relaxed environment where innovative concepts can thrive. This theory is based on the Incongruity Theory - we smile when something quirky goes against our common perception, like in the punchline of a joke (Aristotle, Kant, Schopenhauer).\n",
            "\n",
            "6. Possessing a lighthearted attitude encourages a fun outlook, encourages inventive thinking, and establishes a peaceful setting where inventive ideas can take hold. This principle is derived from the Incongruity Theory - we chuckle when something strange violates our standard beliefs, as in the punchline of a joke (Aristotle, Kant, Schopenhauer).\n",
            "\n",
            "7. Being humorous develops an enjoyable perspective, inspires creative pondering, and forms a tranquil atmosphere where new ideas can flourish. This concept originates from the Incongruity Theory - we laugh when something offbeat clashes with our usual notions, such as in the punchline of a joke (Aristotle, Kant, Schopenhauer).\n",
            "\n",
            "8. Having a sense of humor promotes a jolly attitude, encourages offbeat thinking, and shapes a tranquil setting where pioneering concepts can take shape. This idea is based on the Incongruity Theory - we guffaw when something out of the ordinary goes against our common belief, like in the punchline of a joke (Aristotle, Kant, Schopenhauer).\n",
            "\n",
            "9. Humor encourages a playful disposition, fosters unconventional pondering, and creates a tranquil atmosphere where new ideas can take flight. This notion is based on the Incongruity Theory - we snicker when something different contradicts our ordinary assumptions, as in the punchline of a joke (Aristotle, Kant, Schopenhauer).\n",
            "\n",
            "10. Having a cheerful outlook encourages a jovial perspective, stimulates imaginative thought, and forms a relaxed environment where inventive notions can sprout. This concept is derived from the Incongruity Theory - we grin when something out of the ordinary clashes with our typical beliefs, for example in the punchline of a joke (Aristotle, Kant, Schopenhauer).\n",
            "\n",
            "11. Being humorous fosters a lighthearted state of mind, promotes original thinking, and makes a peaceful atmosphere where innovative ideas can grow. This idea originates from the Incongruity Theory - we smirk when something off the wall goes against our expectations, like in the punchline of a joke (Aristotle, Kant, Schopenhauer).\n",
            "\n",
            "12. Humor develops a merry outlook, encourages out-of-the-ordinary thought, and creates a laid-back environment where inspiring concepts can take root. This principle is based on the Incongruity Theory - we snicker when something offbeat violates our usual assumptions, as in the punchline of a joke (Aristotle, Kant, Schopenhauer).\n",
            "\n",
            "13. Possessing a sense of humor encourages a jovial mentality, stimulates creative pondering, and shapes a relaxed setting where ingenious ideas can thrive. This theory revolves around incongruity - we laugh when something unexpected goes against our common perception, like in the punchline of a joke (Aristotle, Kant, Schopenhauer).\n",
            "\n",
            "14. Having a humorous outlook builds a fun attitude, encourages imaginative thinking, and establishes a peaceful atmosphere where pioneering notions can bloom. This concept is derived from the Incongruity Theory - we grin when something quirky clashes with our typical beliefs, such as in the punchline of a joke (Aristotle, Kant, Schopenhauer).\n",
            "\n",
            "15. Being lighthearted encourages a playful mindset, fosters unorthodox pondering, and forms a calm setting where new ideas can take hold. This theory is based on the Incongruity Theory - we chuckle when something unusual contradicts our ordinary assumptions, like in the punchline of a joke (Aristotle, Kant, Schopenhauer).\n",
            "Take your pick from these humour exercises - why not try one? \n",
            "\n",
            "Go ahead and select one of these humour exercises! \n",
            "Have a go at one of these fun humour exercises! \n",
            "Why not give one of these humour exercises a go? \n",
            "Pick from these humour exercises and have a go! \n",
            "Select one of these humour exercises and give it a try! \n",
            "Try out one of these humour exercises! \n",
            "Choose one of these humour exercises and get started! \n",
            "Pick one of these humour exercises and give it a go! \n",
            "Attempt one of these humour exercises! \n",
            "Select a humour exercise and have a go at it! \n",
            "Go for it and try one of these humour exercises! \n",
            "Check out these humour exercises and pick one! \n",
            "Have a go at one of the humour exercises! \n",
            "Try one of these humour exercises now! \n",
            "Take your pick of these humour exercises! \n",
            "Test your humour and select an exercise!\n",
            "1. Well done! Being funnier will assist you in being creative!\n",
            "2. Impressive! Becoming wittier will give you a boost in creativity!\n",
            "3. Marvelous! Becoming more jocular will help to promote your creativity!\n",
            "4. Way to go! Becoming more lighthearted will aid in developing your creativity!\n",
            "5. Bravissimo! Becoming more jovial will help you foster creativity!\n",
            "6. Superb! Becoming more comical will help you cultivate creativity!\n",
            "7. Kudos! Becoming more amusing will help you foster creativity!\n",
            "8. Nice work! Becoming more wry will help you become more imaginative!\n",
            "9. Superlative! Becoming more mirthful will aid you in being creative!\n",
            "10. Great job! Becoming more whimsical will help you become creative!\n",
            "11. Bravo! Becoming more jocose will help you cultivate creativity!\n",
            "12. Top notch! Becoming more facetious will aid your creativity!\n",
            "13. Outstanding! Becoming more entertaining will help you generate creativity!\n",
            "14. Splendid! Becoming more playful will help you cultivate creativity!\n",
            "15. Congrats! Becoming more zany will help you become creative!\n",
            "1. Care to take a stab at a Humour exercise?\n",
            "2. Interested in giving a Humour drill a go?\n",
            "3. Want to give a Humour workout a whirl?\n",
            "4. Do you fancy tackling a Humour exercise?\n",
            "5. Feeling up to a Humour exercise?\n",
            "6. Mind attempting a Humour exercise?\n",
            "7. Why not give a Humour exercise a try?\n",
            "8. Keen to have a go at a Humour exercise?\n",
            "9. Inclined to give a Humour exercise a go?\n",
            "10. Up for a Humour exercise?\n",
            "11. In the mood for a Humour exercise?\n",
            "12. Ready for a Humour exercise?\n",
            "13. Thinking of doing a Humour exercise?\n",
            "14. Why not have a go at a Humour exercise?\n",
            "15. Fancy attempting a Humour exercise?\n"
          ]
        }
      ],
      "source": [
        "import openai\n",
        "import torch\n",
        "\n",
        "# INSERT API KEY HERE\n",
        "# openai.api_key = \"\"\n",
        "\n",
        "prompts = [\"Provide 15 alternative sentences that are not too formal rewritings of the following paragraph: Curiosity can help you fuel your natural enthusiasm, openness to new domains and interest in pursuing them. Staying curious is important for creativity, and you can also practice it!\",\n",
        "           \"Provide 15 alternative sentences that are not too formal rewritings of the following paragraph: I have several exercises for practicing curiosity for you. Select the one you would like to try.\",\n",
        "           \"Provide 15 alternative sentences that are not too formal rewritings of the following paragraph: Congratulations, practicing curiosity will make you more inclined towards creativity!\",\n",
        "           \"Provide 15 alternative sentences that are not too formal rewritings of the following paragraph: Would you like to try another exercise for practicing curiosity?\",\n",
        "           \"Provide 15 alternative sentences that are not too formal rewritings of the following paragraph: Humor encourages a playful mindset, fosters unconventional thinking, and creates a relaxed atmosphere where innovative ideas can flourish. The following exercises are primarily based on the Incongruity Theory - we laugh when something non-serious violates our common belief, e.g., in punchline of a joke  (Aristotle, Kant, Schopenhauer).\",\n",
        "           \"Provide 15 alternative sentences that are not too formal rewritings of the following paragraph: See below for several humour exercises. Choose one!\",\n",
        "           \"Provide 15 alternative sentences that are not too formal rewritings of the following paragraph: Good job! Becoming more humorous will help you become creative!\",\n",
        "           \"Provide 15 alternative sentences that are not too formal rewritings of the following paragraph: Would you like to try another exercise in the Humour category?\"\n",
        "]\n",
        "\n",
        "count = 0\n",
        "for prompt in prompts:\n",
        "  count += 1\n",
        "\n",
        "  # generate response using chat gpt\n",
        "  response = openai.Completion.create(\n",
        "            engine='text-davinci-003',\n",
        "            prompt=prompt,\n",
        "            temperature=0.7,\n",
        "            max_tokens=1500,\n",
        "            n=1,\n",
        "            stop=None)\n",
        "\n",
        "  # take the message\n",
        "  message = response.choices[0].text.strip()\n",
        "  print(message)\n",
        "\n",
        "  # Opening a CSV file in write mode\n",
        "  with open('output'+str(count) +'.txt','w') as file:\n",
        "    # Using csv.writer to write the list to the CSV file\n",
        "    writer = file.write(message)\n",
        "    file.close()\n"
      ]
    },
    {
      "cell_type": "code",
      "execution_count": 24,
      "metadata": {
        "colab": {
          "base_uri": "https://localhost:8080/"
        },
        "id": "rg4yo8T3l1vS",
        "outputId": "7e94cfb1-44fa-48a0-d3a7-43da1289e574"
      },
      "outputs": [
        {
          "name": "stdout",
          "output_type": "stream",
          "text": [
            "<class 'str'>\n"
          ]
        }
      ],
      "source": [
        "print(type(message))"
      ]
    },
    {
      "cell_type": "code",
      "execution_count": null,
      "metadata": {
        "id": "NZfiMGzxntzo"
      },
      "outputs": [],
      "source": []
    }
  ],
  "metadata": {
    "accelerator": "GPU",
    "colab": {
      "gpuType": "T4",
      "provenance": []
    },
    "kernelspec": {
      "display_name": "Python 3",
      "name": "python3"
    },
    "language_info": {
      "name": "python"
    }
  },
  "nbformat": 4,
  "nbformat_minor": 0
}
